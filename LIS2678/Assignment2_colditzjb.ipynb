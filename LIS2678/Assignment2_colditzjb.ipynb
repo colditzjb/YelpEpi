{
 "cells": [
  {
   "cell_type": "markdown",
   "metadata": {},
   "source": [
    "## Background:\n",
    "One overarching goal of this research project is to determine the feasibility of using the online Yelp platform to collect business listings for retailers of Electronic Nicotine Delivery Systems (ENDS; e.g., vape shops) in Pennsylvania. To this end, I utilized the Yelp API to collect data for all metropolitan and micropolitan census regions in Pennsylvania (which includes some surrounding states). Each API call was set to maximum search radius of 25 miles, targeting a central zipcode within each identified census region (some geographic overlap was present). \n",
    "\n",
    "Data have been collected from the Yelp API at roughly 1-month intervals from September 2016 through present. Data are currently stored in CSV files. Monthly API calls were repeated using several distinct search terms such as \"vape\", \"vaping\", and \"ecig\" to maximize sensitivity. \n",
    "\n",
    "As a result of overlap in search radii and search terms, each monthly data file contains many redundant listings. As the searches were repeated several times, search results are also redundant among the data files. Also, several results are outside of Pennsylvania, so additional data cleaning is needed to limit the scope of results to Pennsylvania ENDS retailers. \n",
    "\n",
    "Data were collected as part of an ongoing research project at the University of Pittsburgh's [Center for Research on Media, Technology, and Health](http://mth.pitt.edu/) and are stored in [CRMTH's GitHub \"YelpEpi\" repository](https://github.com/CRMTH/YelpEpi/). For the purposes of this project, I forked that repo to [my personal GitHub \"YelpEpi\" repository](https://github.com/colditzjb/YelpEpi/).\n",
    "\n"
   ]
  },
  {
   "cell_type": "markdown",
   "metadata": {},
   "source": [
    "### Loading the data\n",
    "\n",
    "First, I needed to clone the repository to my computer. I did this in BASH command line, but I'm including that step for posterity (this may not work as expected within Jupyter)."
   ]
  },
  {
   "cell_type": "code",
   "execution_count": null,
   "metadata": {
    "collapsed": true
   },
   "outputs": [],
   "source": [
    "#!git clone http://github.com/colditzjb/YelpEpi/"
   ]
  },
  {
   "cell_type": "markdown",
   "metadata": {},
   "source": [
    "Depending on your current working directory (e.g., where you started Jupyter), this repo may end up in a different location on your own computer. Change this next line to point to the correct directory:"
   ]
  },
  {
   "cell_type": "code",
   "execution_count": 3,
   "metadata": {
    "collapsed": true
   },
   "outputs": [],
   "source": [
    "dir_in = '//home/jason/repos/YelpEpi/'"
   ]
  },
  {
   "cell_type": "markdown",
   "metadata": {},
   "source": [
    "Okay, now that we're (hopefully) on the same page, let's navigate to the data subdirectory and see what we're working with..."
   ]
  },
  {
   "cell_type": "code",
   "execution_count": 4,
   "metadata": {},
   "outputs": [
    {
     "data": {
      "text/plain": [
       "['2016-09-02.csv',\n",
       " '2016-09-30.csv',\n",
       " '2016-10-31.csv',\n",
       " '2016-11-30.csv',\n",
       " '2017-01-03.csv',\n",
       " '2017-01-31.csv',\n",
       " '2017-02-28.csv',\n",
       " '2017-04-03.csv',\n",
       " '2017-05-01.csv',\n",
       " '2017-05-30.csv',\n",
       " 'README.md']"
      ]
     },
     "execution_count": 4,
     "metadata": {},
     "output_type": "execute_result"
    }
   ],
   "source": [
    "import os\n",
    "data_dir = dir_in+'data/'\n",
    "files = sorted(os.listdir(data_dir)) # Use sorted() to list them in ascending order\n",
    "files"
   ]
  },
  {
   "cell_type": "markdown",
   "metadata": {},
   "source": [
    "A couple issues:\n",
    "* There is a README.md file among the CSV data files, so we'll need to ignore that.\n",
    "* The data collection dates are in the file names, and we'll need those for later.\n",
    "\n",
    "Let's clean that up a bit:"
   ]
  },
  {
   "cell_type": "code",
   "execution_count": 20,
   "metadata": {},
   "outputs": [
    {
     "name": "stdout",
     "output_type": "stream",
     "text": [
      "extension is:\t.csv\n",
      "filename is:\t2017-05-01\n"
     ]
    }
   ],
   "source": [
    "# Figuring out the slicing options\n",
    "f = '2017-05-01.csv'\n",
    "print('extension is:\\t'+f[-4:]) # Use this later to select only CSV files\n",
    "print('filename is:\\t'+f[:-4]) # Use this later for parsing out dates from file names"
   ]
  },
  {
   "cell_type": "code",
   "execution_count": 22,
   "metadata": {},
   "outputs": [
    {
     "data": {
      "text/plain": [
       "['2016-09-02.csv',\n",
       " '2016-09-30.csv',\n",
       " '2016-10-31.csv',\n",
       " '2016-11-30.csv',\n",
       " '2017-01-03.csv',\n",
       " '2017-01-31.csv',\n",
       " '2017-02-28.csv',\n",
       " '2017-04-03.csv',\n",
       " '2017-05-01.csv',\n",
       " '2017-05-30.csv']"
      ]
     },
     "execution_count": 22,
     "metadata": {},
     "output_type": "execute_result"
    }
   ],
   "source": [
    "# Making lists of only CSV files\n",
    "files_csv = []\n",
    "for f in files:\n",
    "    if '.csv' in f[-4:]:\n",
    "        files_csv.append(f)\n",
    "files = files_csv \n",
    "files"
   ]
  },
  {
   "cell_type": "markdown",
   "metadata": {},
   "source": [
    "Now we'll read in the first CSV file as a Pandas object and examine it."
   ]
  },
  {
   "cell_type": "code",
   "execution_count": 26,
   "metadata": {},
   "outputs": [
    {
     "data": {
      "text/html": [
       "<div>\n",
       "<table border=\"1\" class=\"dataframe\">\n",
       "  <thead>\n",
       "    <tr style=\"text-align: right;\">\n",
       "      <th></th>\n",
       "      <th>termnum</th>\n",
       "      <th>term</th>\n",
       "      <th>category</th>\n",
       "      <th>radius_miles</th>\n",
       "      <th>loci</th>\n",
       "      <th>location</th>\n",
       "      <th>lat</th>\n",
       "      <th>lng</th>\n",
       "      <th>distance</th>\n",
       "      <th>i</th>\n",
       "      <th>...</th>\n",
       "      <th>is_closed</th>\n",
       "      <th>rating</th>\n",
       "      <th>review_count</th>\n",
       "      <th>name</th>\n",
       "      <th>phone</th>\n",
       "      <th>display_address</th>\n",
       "      <th>url</th>\n",
       "      <th>yelpcats</th>\n",
       "      <th>isWTS</th>\n",
       "      <th>isTobShop</th>\n",
       "    </tr>\n",
       "  </thead>\n",
       "  <tbody>\n",
       "    <tr>\n",
       "      <th>0</th>\n",
       "      <td>0</td>\n",
       "      <td>vape</td>\n",
       "      <td>NaN</td>\n",
       "      <td>25</td>\n",
       "      <td>1</td>\n",
       "      <td>Allentown-Bethlehem-Easton | PA-NJ Metro Area ...</td>\n",
       "      <td>40.549806</td>\n",
       "      <td>-75.491105</td>\n",
       "      <td>NaN</td>\n",
       "      <td>1</td>\n",
       "      <td>...</td>\n",
       "      <td>False</td>\n",
       "      <td>4.0</td>\n",
       "      <td>4</td>\n",
       "      <td>Get Your Vape On</td>\n",
       "      <td>6104218310</td>\n",
       "      <td>610 State Ave | Emmaus PA 18049</td>\n",
       "      <td>http://www.yelp.com/biz/get-your-vape-on-emmau...</td>\n",
       "      <td>vapeshops |</td>\n",
       "      <td>NaN</td>\n",
       "      <td>NaN</td>\n",
       "    </tr>\n",
       "    <tr>\n",
       "      <th>1</th>\n",
       "      <td>0</td>\n",
       "      <td>vape</td>\n",
       "      <td>NaN</td>\n",
       "      <td>25</td>\n",
       "      <td>1</td>\n",
       "      <td>Allentown-Bethlehem-Easton | PA-NJ Metro Area ...</td>\n",
       "      <td>40.549495</td>\n",
       "      <td>-75.597692</td>\n",
       "      <td>NaN</td>\n",
       "      <td>2</td>\n",
       "      <td>...</td>\n",
       "      <td>False</td>\n",
       "      <td>4.5</td>\n",
       "      <td>2</td>\n",
       "      <td>Vape Flow</td>\n",
       "      <td>4846498347</td>\n",
       "      <td>7150 Hamilton Blvd | Trexlertown PA 18087</td>\n",
       "      <td>http://www.yelp.com/biz/vape-flow-trexlertown-...</td>\n",
       "      <td>vapeshops |</td>\n",
       "      <td>NaN</td>\n",
       "      <td>NaN</td>\n",
       "    </tr>\n",
       "    <tr>\n",
       "      <th>2</th>\n",
       "      <td>0</td>\n",
       "      <td>vape</td>\n",
       "      <td>NaN</td>\n",
       "      <td>25</td>\n",
       "      <td>1</td>\n",
       "      <td>Allentown-Bethlehem-Easton | PA-NJ Metro Area ...</td>\n",
       "      <td>40.629023</td>\n",
       "      <td>-75.477516</td>\n",
       "      <td>NaN</td>\n",
       "      <td>3</td>\n",
       "      <td>...</td>\n",
       "      <td>False</td>\n",
       "      <td>1.0</td>\n",
       "      <td>1</td>\n",
       "      <td>Blue Monkey Vape</td>\n",
       "      <td>6102310555</td>\n",
       "      <td>250 Lehigh Valley Mall | Whitehall PA 18052</td>\n",
       "      <td>http://www.yelp.com/biz/blue-monkey-vape-white...</td>\n",
       "      <td>vapeshops |</td>\n",
       "      <td>NaN</td>\n",
       "      <td>NaN</td>\n",
       "    </tr>\n",
       "  </tbody>\n",
       "</table>\n",
       "<p>3 rows × 21 columns</p>\n",
       "</div>"
      ],
      "text/plain": [
       "   termnum  term  category  radius_miles  loci  \\\n",
       "0        0  vape       NaN            25     1   \n",
       "1        0  vape       NaN            25     1   \n",
       "2        0  vape       NaN            25     1   \n",
       "\n",
       "                                            location        lat        lng  \\\n",
       "0  Allentown-Bethlehem-Easton | PA-NJ Metro Area ...  40.549806 -75.491105   \n",
       "1  Allentown-Bethlehem-Easton | PA-NJ Metro Area ...  40.549495 -75.597692   \n",
       "2  Allentown-Bethlehem-Easton | PA-NJ Metro Area ...  40.629023 -75.477516   \n",
       "\n",
       "   distance  i    ...     is_closed rating  review_count              name  \\\n",
       "0       NaN  1    ...         False    4.0             4  Get Your Vape On   \n",
       "1       NaN  2    ...         False    4.5             2         Vape Flow   \n",
       "2       NaN  3    ...         False    1.0             1  Blue Monkey Vape   \n",
       "\n",
       "        phone                              display_address  \\\n",
       "0  6104218310              610 State Ave | Emmaus PA 18049   \n",
       "1  4846498347    7150 Hamilton Blvd | Trexlertown PA 18087   \n",
       "2  6102310555  250 Lehigh Valley Mall | Whitehall PA 18052   \n",
       "\n",
       "                                                 url      yelpcats isWTS  \\\n",
       "0  http://www.yelp.com/biz/get-your-vape-on-emmau...  vapeshops |    NaN   \n",
       "1  http://www.yelp.com/biz/vape-flow-trexlertown-...  vapeshops |    NaN   \n",
       "2  http://www.yelp.com/biz/blue-monkey-vape-white...  vapeshops |    NaN   \n",
       "\n",
       "   isTobShop  \n",
       "0        NaN  \n",
       "1        NaN  \n",
       "2        NaN  \n",
       "\n",
       "[3 rows x 21 columns]"
      ]
     },
     "execution_count": 26,
     "metadata": {},
     "output_type": "execute_result"
    }
   ],
   "source": [
    "import pandas as pd\n",
    "df = pd.read_csv(data_dir+files[0])\n",
    "df.head(3) # Only display the first 3 records"
   ]
  },
  {
   "cell_type": "markdown",
   "metadata": {},
   "source": [
    "Next, let's confirm that all of the files are Pandas-readable...\n",
    "\n",
    "_Spoiler alert:_ they're not all good!"
   ]
  },
  {
   "cell_type": "code",
   "execution_count": 29,
   "metadata": {},
   "outputs": [
    {
     "name": "stdout",
     "output_type": "stream",
     "text": [
      "2016-09-02.csv is all good\n",
      "2016-09-30.csv is all good\n",
      "2016-10-31.csv is all good\n",
      "2016-11-30.csv is all good\n",
      "2017-01-03.csv is NOT good\n",
      "2017-01-31.csv is NOT good\n",
      "2017-02-28.csv is NOT good\n",
      "2017-04-03.csv is NOT good\n",
      "2017-05-01.csv is all good\n",
      "2017-05-30.csv is all good\n"
     ]
    }
   ],
   "source": [
    "for f in files:\n",
    "    try:\n",
    "        df = pd.read_csv(data_dir+f)\n",
    "        print(f+' is all good')\n",
    "    except:\n",
    "        print(f+' is NOT good')"
   ]
  },
  {
   "cell_type": "markdown",
   "metadata": {},
   "source": [
    "What's going on with the \"NOT good\" files?!\n",
    "\n",
    "Let's iterate to find the error..."
   ]
  },
  {
   "cell_type": "code",
   "execution_count": 68,
   "metadata": {},
   "outputs": [
    {
     "ename": "UnicodeDecodeError",
     "evalue": "'utf-8' codec can't decode byte 0xe9 in position 2336: invalid continuation byte",
     "output_type": "error",
     "traceback": [
      "\u001b[0;31m---------------------------------------------------------------------------\u001b[0m",
      "\u001b[0;31mUnicodeDecodeError\u001b[0m                        Traceback (most recent call last)",
      "\u001b[0;32m<ipython-input-68-79e1beb40896>\u001b[0m in \u001b[0;36m<module>\u001b[0;34m()\u001b[0m\n\u001b[0;32m----> 1\u001b[0;31m \u001b[0;32mfor\u001b[0m \u001b[0mline\u001b[0m \u001b[0;32min\u001b[0m \u001b[0mopen\u001b[0m\u001b[0;34m(\u001b[0m\u001b[0mdata_dir\u001b[0m\u001b[0;34m+\u001b[0m\u001b[0;34m'2017-01-03.csv'\u001b[0m\u001b[0;34m)\u001b[0m\u001b[0;34m:\u001b[0m\u001b[0;34m\u001b[0m\u001b[0m\n\u001b[0m\u001b[1;32m      2\u001b[0m     \u001b[0;32mpass\u001b[0m\u001b[0;34m\u001b[0m\u001b[0m\n",
      "\u001b[0;32m/usr/lib/python3.5/codecs.py\u001b[0m in \u001b[0;36mdecode\u001b[0;34m(self, input, final)\u001b[0m\n\u001b[1;32m    319\u001b[0m         \u001b[0;31m# decode input (taking the buffer into account)\u001b[0m\u001b[0;34m\u001b[0m\u001b[0;34m\u001b[0m\u001b[0m\n\u001b[1;32m    320\u001b[0m         \u001b[0mdata\u001b[0m \u001b[0;34m=\u001b[0m \u001b[0mself\u001b[0m\u001b[0;34m.\u001b[0m\u001b[0mbuffer\u001b[0m \u001b[0;34m+\u001b[0m \u001b[0minput\u001b[0m\u001b[0;34m\u001b[0m\u001b[0m\n\u001b[0;32m--> 321\u001b[0;31m         \u001b[0;34m(\u001b[0m\u001b[0mresult\u001b[0m\u001b[0;34m,\u001b[0m \u001b[0mconsumed\u001b[0m\u001b[0;34m)\u001b[0m \u001b[0;34m=\u001b[0m \u001b[0mself\u001b[0m\u001b[0;34m.\u001b[0m\u001b[0m_buffer_decode\u001b[0m\u001b[0;34m(\u001b[0m\u001b[0mdata\u001b[0m\u001b[0;34m,\u001b[0m \u001b[0mself\u001b[0m\u001b[0;34m.\u001b[0m\u001b[0merrors\u001b[0m\u001b[0;34m,\u001b[0m \u001b[0mfinal\u001b[0m\u001b[0;34m)\u001b[0m\u001b[0;34m\u001b[0m\u001b[0m\n\u001b[0m\u001b[1;32m    322\u001b[0m         \u001b[0;31m# keep undecoded input until the next call\u001b[0m\u001b[0;34m\u001b[0m\u001b[0;34m\u001b[0m\u001b[0m\n\u001b[1;32m    323\u001b[0m         \u001b[0mself\u001b[0m\u001b[0;34m.\u001b[0m\u001b[0mbuffer\u001b[0m \u001b[0;34m=\u001b[0m \u001b[0mdata\u001b[0m\u001b[0;34m[\u001b[0m\u001b[0mconsumed\u001b[0m\u001b[0;34m:\u001b[0m\u001b[0;34m]\u001b[0m\u001b[0;34m\u001b[0m\u001b[0m\n",
      "\u001b[0;31mUnicodeDecodeError\u001b[0m: 'utf-8' codec can't decode byte 0xe9 in position 2336: invalid continuation byte"
     ]
    }
   ],
   "source": [
    "for line in open(data_dir+'2017-01-03.csv'):\n",
    "    pass"
   ]
  },
  {
   "cell_type": "markdown",
   "metadata": {},
   "source": [
    "Let's examine the file in question..."
   ]
  },
  {
   "cell_type": "code",
   "execution_count": 47,
   "metadata": {},
   "outputs": [
    {
     "name": "stdout",
     "output_type": "stream",
     "text": [
      "Last good line was #944 and had this data:\n",
      "\n",
      "0,vape,,25,36,York-Hanover | PA Metro Area; Pennsylvania (Spring Grove | PA),39.9766769,-76.7686615,5516.60113329,18,djs-westgate-beverage-york,False,4.0,1,DJ's Westgate Beverage,7177641550,1550 Kenneth Rd | York PA 17408,https://www.yelp.com/biz/djs-westgate-beverage-york?adjust_creative=wDwCvDADIHyvJYDHOmNK2g&utm_campaign=yelp_api&utm_medium=api_v2_search&utm_source=wDwCvDADIHyvJYDHOmNK2g,beer_and_wine | tobaccoshops | \n",
      "\n"
     ]
    }
   ],
   "source": [
    "lineNum = 0\n",
    "try:\n",
    "    for line in open(data_dir+'2017-01-03.csv'):\n",
    "        lineNum += 1\n",
    "        pass\n",
    "except:\n",
    "    print('Last good line was #'+str(lineNum)+' and had this data:\\n')\n",
    "    print(line)\n"
   ]
  },
  {
   "cell_type": "markdown",
   "metadata": {},
   "source": [
    "At this point, we know that there is a utf-8 encoding error around line # 944 in the '2017-01-03.csv' file (and also in some subsequent files). Upon reviewing the raw data, there weren't any obviously strange text characters, so we're going to try a different encoding strategy.\n",
    "\n",
    "After some trial-and-error (and various StackOverflow pages), _\"latin-1\"_ might be a viable encoding strategy when interpreting text from an API that is international in scope. Let's try that..."
   ]
  },
  {
   "cell_type": "code",
   "execution_count": 66,
   "metadata": {},
   "outputs": [
    {
     "name": "stdout",
     "output_type": "stream",
     "text": [
      "2016-09-02.csv is all good\n",
      "2016-09-30.csv is all good\n",
      "2016-10-31.csv is all good\n",
      "2016-11-30.csv is all good\n",
      "2017-01-03.csv is all good\n",
      "2017-01-31.csv is all good\n",
      "2017-02-28.csv is all good\n",
      "2017-04-03.csv is all good\n",
      "2017-05-01.csv is all good\n",
      "2017-05-30.csv is all good\n"
     ]
    }
   ],
   "source": [
    "for f in files:\n",
    "    try:\n",
    "        df = pd.read_csv(data_dir+f, encoding='latin-1')\n",
    "        print(f+' is all good')\n",
    "    except:\n",
    "        print(f+' is NOT good')"
   ]
  },
  {
   "cell_type": "markdown",
   "metadata": {},
   "source": [
    "__Success - it's all good!__"
   ]
  },
  {
   "cell_type": "markdown",
   "metadata": {},
   "source": [
    "### Documenting the data\n",
    "\n",
    "Now that the data files are programatically \"all good\", let's double check the `head()` and `info()` functions for a couple dataframes with different circumstances:\n",
    "\n",
    "* 2016-09-02.csv was well-behaved before encoding\n",
    "* 2017-01-03.csv was not well-behaved before encoding\n",
    "\n",
    "If everything looks congruent, we will then document (as per the assignment goals):\n",
    "* Look at each column, describe the data types, and try to understand what the data means? There doesn't appear to be a data dictionary, so it is perfectly OK to say \"I don't know\" `¯\\_(ツ)_/¯`\n"
   ]
  },
  {
   "cell_type": "code",
   "execution_count": 5,
   "metadata": {},
   "outputs": [
    {
     "name": "stdout",
     "output_type": "stream",
     "text": [
      "<class 'pandas.core.frame.DataFrame'>\n",
      "Int64Index: 929 entries, 0 to 928\n",
      "Data columns (total 21 columns):\n",
      "termnum            929 non-null int64\n",
      "term               929 non-null object\n",
      "category           0 non-null float64\n",
      "radius_miles       929 non-null int64\n",
      "loci               929 non-null int64\n",
      "location           929 non-null object\n",
      "lat                929 non-null float64\n",
      "lng                929 non-null float64\n",
      "distance           0 non-null float64\n",
      "i                  929 non-null int64\n",
      "yelp_id            929 non-null object\n",
      "is_closed          929 non-null bool\n",
      "rating             929 non-null float64\n",
      "review_count       929 non-null int64\n",
      "name               929 non-null object\n",
      "phone              926 non-null float64\n",
      "display_address    929 non-null object\n",
      "url                929 non-null object\n",
      "yelpcats           929 non-null object\n",
      "isWTS              0 non-null float64\n",
      "isTobShop          0 non-null float64\n",
      "dtypes: bool(1), float64(8), int64(5), object(7)\n",
      "memory usage: 127.9+ KB\n"
     ]
    },
    {
     "data": {
      "text/html": [
       "<div>\n",
       "<table border=\"1\" class=\"dataframe\">\n",
       "  <thead>\n",
       "    <tr style=\"text-align: right;\">\n",
       "      <th></th>\n",
       "      <th>termnum</th>\n",
       "      <th>term</th>\n",
       "      <th>category</th>\n",
       "      <th>radius_miles</th>\n",
       "      <th>loci</th>\n",
       "      <th>location</th>\n",
       "      <th>lat</th>\n",
       "      <th>lng</th>\n",
       "      <th>distance</th>\n",
       "      <th>i</th>\n",
       "      <th>...</th>\n",
       "      <th>is_closed</th>\n",
       "      <th>rating</th>\n",
       "      <th>review_count</th>\n",
       "      <th>name</th>\n",
       "      <th>phone</th>\n",
       "      <th>display_address</th>\n",
       "      <th>url</th>\n",
       "      <th>yelpcats</th>\n",
       "      <th>isWTS</th>\n",
       "      <th>isTobShop</th>\n",
       "    </tr>\n",
       "  </thead>\n",
       "  <tbody>\n",
       "    <tr>\n",
       "      <th>0</th>\n",
       "      <td>0</td>\n",
       "      <td>vape</td>\n",
       "      <td>NaN</td>\n",
       "      <td>25</td>\n",
       "      <td>1</td>\n",
       "      <td>Allentown-Bethlehem-Easton | PA-NJ Metro Area ...</td>\n",
       "      <td>40.549806</td>\n",
       "      <td>-75.491105</td>\n",
       "      <td>NaN</td>\n",
       "      <td>1</td>\n",
       "      <td>...</td>\n",
       "      <td>False</td>\n",
       "      <td>4.0</td>\n",
       "      <td>4</td>\n",
       "      <td>Get Your Vape On</td>\n",
       "      <td>6104218310</td>\n",
       "      <td>610 State Ave | Emmaus PA 18049</td>\n",
       "      <td>http://www.yelp.com/biz/get-your-vape-on-emmau...</td>\n",
       "      <td>vapeshops |</td>\n",
       "      <td>NaN</td>\n",
       "      <td>NaN</td>\n",
       "    </tr>\n",
       "    <tr>\n",
       "      <th>1</th>\n",
       "      <td>0</td>\n",
       "      <td>vape</td>\n",
       "      <td>NaN</td>\n",
       "      <td>25</td>\n",
       "      <td>1</td>\n",
       "      <td>Allentown-Bethlehem-Easton | PA-NJ Metro Area ...</td>\n",
       "      <td>40.549495</td>\n",
       "      <td>-75.597692</td>\n",
       "      <td>NaN</td>\n",
       "      <td>2</td>\n",
       "      <td>...</td>\n",
       "      <td>False</td>\n",
       "      <td>4.5</td>\n",
       "      <td>2</td>\n",
       "      <td>Vape Flow</td>\n",
       "      <td>4846498347</td>\n",
       "      <td>7150 Hamilton Blvd | Trexlertown PA 18087</td>\n",
       "      <td>http://www.yelp.com/biz/vape-flow-trexlertown-...</td>\n",
       "      <td>vapeshops |</td>\n",
       "      <td>NaN</td>\n",
       "      <td>NaN</td>\n",
       "    </tr>\n",
       "    <tr>\n",
       "      <th>2</th>\n",
       "      <td>0</td>\n",
       "      <td>vape</td>\n",
       "      <td>NaN</td>\n",
       "      <td>25</td>\n",
       "      <td>1</td>\n",
       "      <td>Allentown-Bethlehem-Easton | PA-NJ Metro Area ...</td>\n",
       "      <td>40.629023</td>\n",
       "      <td>-75.477516</td>\n",
       "      <td>NaN</td>\n",
       "      <td>3</td>\n",
       "      <td>...</td>\n",
       "      <td>False</td>\n",
       "      <td>1.0</td>\n",
       "      <td>1</td>\n",
       "      <td>Blue Monkey Vape</td>\n",
       "      <td>6102310555</td>\n",
       "      <td>250 Lehigh Valley Mall | Whitehall PA 18052</td>\n",
       "      <td>http://www.yelp.com/biz/blue-monkey-vape-white...</td>\n",
       "      <td>vapeshops |</td>\n",
       "      <td>NaN</td>\n",
       "      <td>NaN</td>\n",
       "    </tr>\n",
       "  </tbody>\n",
       "</table>\n",
       "<p>3 rows × 21 columns</p>\n",
       "</div>"
      ],
      "text/plain": [
       "   termnum  term  category  radius_miles  loci  \\\n",
       "0        0  vape       NaN            25     1   \n",
       "1        0  vape       NaN            25     1   \n",
       "2        0  vape       NaN            25     1   \n",
       "\n",
       "                                            location        lat        lng  \\\n",
       "0  Allentown-Bethlehem-Easton | PA-NJ Metro Area ...  40.549806 -75.491105   \n",
       "1  Allentown-Bethlehem-Easton | PA-NJ Metro Area ...  40.549495 -75.597692   \n",
       "2  Allentown-Bethlehem-Easton | PA-NJ Metro Area ...  40.629023 -75.477516   \n",
       "\n",
       "   distance  i    ...     is_closed rating  review_count              name  \\\n",
       "0       NaN  1    ...         False    4.0             4  Get Your Vape On   \n",
       "1       NaN  2    ...         False    4.5             2         Vape Flow   \n",
       "2       NaN  3    ...         False    1.0             1  Blue Monkey Vape   \n",
       "\n",
       "        phone                              display_address  \\\n",
       "0  6104218310              610 State Ave | Emmaus PA 18049   \n",
       "1  4846498347    7150 Hamilton Blvd | Trexlertown PA 18087   \n",
       "2  6102310555  250 Lehigh Valley Mall | Whitehall PA 18052   \n",
       "\n",
       "                                                 url      yelpcats isWTS  \\\n",
       "0  http://www.yelp.com/biz/get-your-vape-on-emmau...  vapeshops |    NaN   \n",
       "1  http://www.yelp.com/biz/vape-flow-trexlertown-...  vapeshops |    NaN   \n",
       "2  http://www.yelp.com/biz/blue-monkey-vape-white...  vapeshops |    NaN   \n",
       "\n",
       "   isTobShop  \n",
       "0        NaN  \n",
       "1        NaN  \n",
       "2        NaN  \n",
       "\n",
       "[3 rows x 21 columns]"
      ]
     },
     "execution_count": 5,
     "metadata": {},
     "output_type": "execute_result"
    }
   ],
   "source": [
    "import pandas as pd\n",
    "df = pd.read_csv(data_dir+'2016-09-02.csv', encoding='latin-1')\n",
    "df.info()\n",
    "df.head(3) # Only display the first 3 records"
   ]
  },
  {
   "cell_type": "code",
   "execution_count": 6,
   "metadata": {},
   "outputs": [
    {
     "name": "stdout",
     "output_type": "stream",
     "text": [
      "<class 'pandas.core.frame.DataFrame'>\n",
      "Int64Index: 1649 entries, 0 to 1648\n",
      "Data columns (total 22 columns):\n",
      "termnum            1649 non-null int64\n",
      "term               1649 non-null object\n",
      "category           0 non-null float64\n",
      "radius_miles       1649 non-null int64\n",
      "loci               1649 non-null int64\n",
      "location           1649 non-null object\n",
      "lat                1649 non-null float64\n",
      "lng                1646 non-null float64\n",
      "distance           1646 non-null float64\n",
      "i                  1649 non-null int64\n",
      "yelp_id            1649 non-null object\n",
      "is_closed          1649 non-null bool\n",
      "rating             1649 non-null float64\n",
      "review_count       1649 non-null int64\n",
      "name               1649 non-null object\n",
      "phone              1632 non-null float64\n",
      "display_address    1649 non-null object\n",
      "url                1649 non-null object\n",
      "yelpcats           1649 non-null object\n",
      "isWTS              0 non-null float64\n",
      "isTobShop          0 non-null float64\n",
      "Unnamed: 21        0 non-null float64\n",
      "dtypes: bool(1), float64(9), int64(5), object(7)\n",
      "memory usage: 239.9+ KB\n"
     ]
    },
    {
     "data": {
      "text/html": [
       "<div>\n",
       "<table border=\"1\" class=\"dataframe\">\n",
       "  <thead>\n",
       "    <tr style=\"text-align: right;\">\n",
       "      <th></th>\n",
       "      <th>termnum</th>\n",
       "      <th>term</th>\n",
       "      <th>category</th>\n",
       "      <th>radius_miles</th>\n",
       "      <th>loci</th>\n",
       "      <th>location</th>\n",
       "      <th>lat</th>\n",
       "      <th>lng</th>\n",
       "      <th>distance</th>\n",
       "      <th>i</th>\n",
       "      <th>...</th>\n",
       "      <th>rating</th>\n",
       "      <th>review_count</th>\n",
       "      <th>name</th>\n",
       "      <th>phone</th>\n",
       "      <th>display_address</th>\n",
       "      <th>url</th>\n",
       "      <th>yelpcats</th>\n",
       "      <th>isWTS</th>\n",
       "      <th>isTobShop</th>\n",
       "      <th>Unnamed: 21</th>\n",
       "    </tr>\n",
       "  </thead>\n",
       "  <tbody>\n",
       "    <tr>\n",
       "      <th>0</th>\n",
       "      <td>0</td>\n",
       "      <td>vape</td>\n",
       "      <td>NaN</td>\n",
       "      <td>25</td>\n",
       "      <td>1</td>\n",
       "      <td>Allentown-Bethlehem-Easton | PA-NJ Metro Area ...</td>\n",
       "      <td>40.549110</td>\n",
       "      <td>-75.491142</td>\n",
       "      <td>5456.363136</td>\n",
       "      <td>1</td>\n",
       "      <td>...</td>\n",
       "      <td>4</td>\n",
       "      <td>4</td>\n",
       "      <td>Get Your Vape On</td>\n",
       "      <td>6104218310</td>\n",
       "      <td>610 State Ave | Emmaus PA 18049</td>\n",
       "      <td>https://www.yelp.com/biz/get-your-vape-on-emma...</td>\n",
       "      <td>vapeshops |</td>\n",
       "      <td>NaN</td>\n",
       "      <td>NaN</td>\n",
       "      <td>NaN</td>\n",
       "    </tr>\n",
       "    <tr>\n",
       "      <th>1</th>\n",
       "      <td>0</td>\n",
       "      <td>vape</td>\n",
       "      <td>NaN</td>\n",
       "      <td>25</td>\n",
       "      <td>1</td>\n",
       "      <td>Allentown-Bethlehem-Easton | PA-NJ Metro Area ...</td>\n",
       "      <td>40.549495</td>\n",
       "      <td>-75.597692</td>\n",
       "      <td>5461.880656</td>\n",
       "      <td>2</td>\n",
       "      <td>...</td>\n",
       "      <td>1</td>\n",
       "      <td>1</td>\n",
       "      <td>Vape Flow</td>\n",
       "      <td>4846810033</td>\n",
       "      <td>7150 Hamilton Blvd | Trexlertown PA 18087</td>\n",
       "      <td>https://www.yelp.com/biz/vape-flow-trexlertown...</td>\n",
       "      <td>vapeshops |</td>\n",
       "      <td>NaN</td>\n",
       "      <td>NaN</td>\n",
       "      <td>NaN</td>\n",
       "    </tr>\n",
       "    <tr>\n",
       "      <th>2</th>\n",
       "      <td>0</td>\n",
       "      <td>vape</td>\n",
       "      <td>NaN</td>\n",
       "      <td>25</td>\n",
       "      <td>1</td>\n",
       "      <td>Allentown-Bethlehem-Easton | PA-NJ Metro Area ...</td>\n",
       "      <td>40.628833</td>\n",
       "      <td>-75.477412</td>\n",
       "      <td>5456.567591</td>\n",
       "      <td>3</td>\n",
       "      <td>...</td>\n",
       "      <td>1</td>\n",
       "      <td>1</td>\n",
       "      <td>Blue Monkey Vape</td>\n",
       "      <td>6102310555</td>\n",
       "      <td>250 Lehigh Valley Mall | Whitehall PA 18052</td>\n",
       "      <td>https://www.yelp.com/biz/blue-monkey-vape-whit...</td>\n",
       "      <td>vapeshops |</td>\n",
       "      <td>NaN</td>\n",
       "      <td>NaN</td>\n",
       "      <td>NaN</td>\n",
       "    </tr>\n",
       "  </tbody>\n",
       "</table>\n",
       "<p>3 rows × 22 columns</p>\n",
       "</div>"
      ],
      "text/plain": [
       "   termnum  term  category  radius_miles  loci  \\\n",
       "0        0  vape       NaN            25     1   \n",
       "1        0  vape       NaN            25     1   \n",
       "2        0  vape       NaN            25     1   \n",
       "\n",
       "                                            location        lat        lng  \\\n",
       "0  Allentown-Bethlehem-Easton | PA-NJ Metro Area ...  40.549110 -75.491142   \n",
       "1  Allentown-Bethlehem-Easton | PA-NJ Metro Area ...  40.549495 -75.597692   \n",
       "2  Allentown-Bethlehem-Easton | PA-NJ Metro Area ...  40.628833 -75.477412   \n",
       "\n",
       "      distance  i     ...      rating review_count              name  \\\n",
       "0  5456.363136  1     ...           4            4  Get Your Vape On   \n",
       "1  5461.880656  2     ...           1            1         Vape Flow   \n",
       "2  5456.567591  3     ...           1            1  Blue Monkey Vape   \n",
       "\n",
       "        phone                              display_address  \\\n",
       "0  6104218310              610 State Ave | Emmaus PA 18049   \n",
       "1  4846810033    7150 Hamilton Blvd | Trexlertown PA 18087   \n",
       "2  6102310555  250 Lehigh Valley Mall | Whitehall PA 18052   \n",
       "\n",
       "                                                 url      yelpcats isWTS  \\\n",
       "0  https://www.yelp.com/biz/get-your-vape-on-emma...  vapeshops |    NaN   \n",
       "1  https://www.yelp.com/biz/vape-flow-trexlertown...  vapeshops |    NaN   \n",
       "2  https://www.yelp.com/biz/blue-monkey-vape-whit...  vapeshops |    NaN   \n",
       "\n",
       "  isTobShop  Unnamed: 21  \n",
       "0       NaN          NaN  \n",
       "1       NaN          NaN  \n",
       "2       NaN          NaN  \n",
       "\n",
       "[3 rows x 22 columns]"
      ]
     },
     "execution_count": 6,
     "metadata": {},
     "output_type": "execute_result"
    }
   ],
   "source": [
    "import pandas as pd\n",
    "df = pd.read_csv(data_dir+'2017-01-03.csv', encoding='latin-1')\n",
    "df.info()\n",
    "df.head(3) # Only display the first 3 records"
   ]
  },
  {
   "cell_type": "markdown",
   "metadata": {},
   "source": [
    "One obvious difference between these two files is the presence of an additional, blank \"_Unnamed: 21_\" column in the second file. That can be ignored, as well as some of the other columns that don't yield useful information. Here's the breakdown of the data dictionary:\n",
    "\n",
    "00 __termnum:__            [ignore] iterable relating to the search term used in data collection\n",
    "\n",
    "01 __term:__              the search term used in data collection\n",
    "\n",
    "02 __category:__           [ignore] empty column\n",
    "\n",
    "03 __radius_miles:__       [ignore] search radius was 25 miles for all data\n",
    "\n",
    "04 __loci:__               [ignore] iterable relating to the location searched about\n",
    "\n",
    "05 __location:__           census tract information for this search\n",
    "\n",
    "06 __lat: __               latitude of business location\n",
    "\n",
    "07 __lng:__                longitude of business location\n",
    "\n",
    "08 __distance:__           [ignore] distance from an arbitrary point to the location\n",
    "\n",
    "09 __i:__                  [ignore] iterable relating to the search result listing\n",
    "\n",
    "10 __yelp_id:__            unique Yelp identifier string for this business listing\n",
    "\n",
    "11 __is_closed:__          is this business marked as closed on Yelp? (True/False)\n",
    "\n",
    "12 __rating:__             average rating of this business on Yelp (range: 1-5)\n",
    "\n",
    "13 __review_count:__       number of reviews contributing to the average rating\n",
    "\n",
    "14 __name:__               business name\n",
    "\n",
    "15 __phone:__              business phone number\n",
    "\n",
    "16 __display_address:__    business address\n",
    "\n",
    "17 __url:__                webpage for this Yelp listing\n",
    "\n",
    "18 __yelpcats:__           business categories on the Yelp platform \n",
    "\n",
    "19 __isWTS:__              empty column intended to track \"Vape Shops\" from `yelpcats`\n",
    "\n",
    "20 __isTobShop:__          empty column intended to track \"Tobacco Shops\" from `yelpcats`\n",
    "\n",
    "21 __Unnamed: 21:__        [ignore] erroneous column\n",
    "\n",
    "\n",
    "_Also of note:_ During data collection commas were replaced with \"|\" bars in string variables so that the resulting CSV files would line up correctly. This may be useful information for splitting string fields later on! "
   ]
  },
  {
   "cell_type": "markdown",
   "metadata": {},
   "source": [
    "### Cleaning the data\n",
    "\n",
    "A few overarching issues for data cleaning:\n",
    "* Data files are _roughly_ monthly data collection points, but sometimes data were collected at the beginning and end of a particular month. A `timepoint` field might be better than a date field in this circumstance. \n",
    "* Some data files have an extra, blank column.\n",
    "* Some columns aren't useful for the present analyses and can be dropped.\n",
    "* Redundancy; lots of redundant data!\n",
    "\n",
    "More nuanced issues for data cleaning:\n",
    "* Need to extract state abbreviation from the `display_address` field to center-in on Pennsylvania data.\n",
    "* Need to populate the `isWTS` field to identify businesses marked as \"Vape Shops\" by Yelp.\n",
    "\n",
    "Let's do this...\n"
   ]
  },
  {
   "cell_type": "code",
   "execution_count": 36,
   "metadata": {},
   "outputs": [],
   "source": [
    "# Create new files with reduced columns and a new column for \"timepoint\"\n",
    "import os, csv\n",
    "\n",
    "files = sorted(os.listdir(data_dir)) # Use sorted() to list them in ascending order\n",
    "\n",
    "# Reduce the output file to only the variables that we're interested in\n",
    "def writeLine(timepoint, l):\n",
    "    v = l.split(',')\n",
    "    with open(data_dir+'output.csv', 'a+') as output:\n",
    "        CSVwriter = csv.writer(output, delimiter=',')\n",
    "        CSVwriter.writerow([timepoint, v[1], v[5], v[6], v[7], v[10], \n",
    "                            v[11], v[12], v[13], v[14], v[15], v[16], \n",
    "                            v[17], v[18]])\n",
    "\n",
    "timepoint = 0\n",
    "for f in files:\n",
    "    if '.csv' in f[-4:]: # Only include CSV files\n",
    "        line = 0 # Need to iterate lines to control for header rows\n",
    "        with open(data_dir+f, encoding='latin-1') as file:\n",
    "            for l in file:\n",
    "                if timepoint == 0 and line == 0:\n",
    "                    writeLine('timepoint',l) # Write header row\n",
    "                elif line > 0:\n",
    "                    writeLine(timepoint,l) # Write data\n",
    "                else:\n",
    "                    pass\n",
    "                line = line + 1\n",
    "            timepoint = timepoint + 1\n",
    "\n",
    "            \n"
   ]
  },
  {
   "cell_type": "code",
   "execution_count": null,
   "metadata": {
    "collapsed": true
   },
   "outputs": [],
   "source": []
  },
  {
   "cell_type": "code",
   "execution_count": null,
   "metadata": {
    "collapsed": true
   },
   "outputs": [],
   "source": []
  },
  {
   "cell_type": "markdown",
   "metadata": {},
   "source": [
    "_Note to self:_ Update the remote repository..."
   ]
  },
  {
   "cell_type": "code",
   "execution_count": 83,
   "metadata": {
    "collapsed": true
   },
   "outputs": [],
   "source": [
    "#!git add .\n",
    "#!git commit -m \"update files\"\n",
    "#!git config user.email \"colditzjb@gmail.com\"\n",
    "#!git push origin master"
   ]
  },
  {
   "cell_type": "code",
   "execution_count": null,
   "metadata": {
    "collapsed": true
   },
   "outputs": [],
   "source": []
  }
 ],
 "metadata": {
  "kernelspec": {
   "display_name": "Python 3",
   "language": "python",
   "name": "python3"
  },
  "language_info": {
   "codemirror_mode": {
    "name": "ipython",
    "version": 3
   },
   "file_extension": ".py",
   "mimetype": "text/x-python",
   "name": "python",
   "nbconvert_exporter": "python",
   "pygments_lexer": "ipython3",
   "version": "3.5.2"
  }
 },
 "nbformat": 4,
 "nbformat_minor": 2
}
