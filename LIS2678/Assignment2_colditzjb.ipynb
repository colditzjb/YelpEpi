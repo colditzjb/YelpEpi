{
 "cells": [
  {
   "cell_type": "markdown",
   "metadata": {},
   "source": [
    "## Background:\n",
    "One overarching goal of this research project is to determine the feasibility of using the online Yelp platform to collect business listings for retailers of Electronic Nicotine Delivery Systems (ENDS; e.g., vape shops) in Pennsylvania. To this end, I utilized the Yelp API to collect data for all metropolitan and micropolitan census regions in Pennsylvania (which includes some surrounding states). Each API call was set to maximum search radius of 25 miles, targeting a central zipcode within each identified census region (some geographic overlap was present). \n",
    "\n",
    "Data have been collected from the Yelp API at roughly 1-month intervals from September 2016 through present. Data are currently stored in CSV files. Monthly API calls were repeated using several distinct search terms such as \"vape\", \"vaping\", and \"ecig\" to maximize sensitivity. \n",
    "\n",
    "As a result of overlap in search radii and search terms, each monthly data file contains many redundant listings. As the searches were repeated several times, search results are also redundant among the data files. Also, several results are outside of Pennsylvania, so additional data cleaning is needed to limit the scope of results to unique Pennsylvania ENDS retailers. \n",
    "\n",
    "Data were collected as part of an ongoing research project at the University of Pittsburgh's [Center for Research on Media, Technology, and Health](http://mth.pitt.edu/) and are stored in [CRMTH's GitHub \"YelpEpi\" repository](https://github.com/CRMTH/YelpEpi/). For the purposes of this project, I forked that repo to [my personal GitHub \"YelpEpi\" repository](https://github.com/colditzjb/YelpEpi/).\n",
    "\n",
    "\n",
    "### Project goals achieved through this assignment:\n",
    "\n",
    "* __Loading the data__\n",
    " * Load the data from multiple CSV files\n",
    " * Troubleshoot data encoding issues\n",
    "\n",
    "\n",
    "* __Documenting the data__\n",
    " * Examine the data characteristics\n",
    " * Create a data dictionary to describe variables in each column\n",
    "\n",
    "\n",
    "* __Cleaning the data__\n",
    " * Create a function to find state abbreviations within address fields\n",
    " * Create a function to categorize vape shops using Yelp's native categories\n",
    " * Create a function to write reduced data columns to a new file\n",
    " * Implement these functions across multiple files and create a header row in a new \"output\" file, which includes all data and includes `timepoint` of data collection\n",
    " \n",
    " \n",
    "* __Combining the data__ \n",
    " * Read in all cleaned data from the new \"output\" file\n",
    " * Group data by timepoint\n",
    " * Graphically examine the prevalence of business types and performance of keyword search strategies over time\n",
    " * De-duplicate the data to include only unique business listings\n",
    " * Reduce the data to include the business listings of immediate interest\n",
    "   * Create a mask to include data from PA only\n",
    "   * Create a mask to include data that relates to \"vape shops\" only\n",
    "   * Apply both masks\n",
    " * Graphically examine the prevalence of vape shops in PA over time\n"
   ]
  },
  {
   "cell_type": "markdown",
   "metadata": {},
   "source": [
    "### Loading the data\n",
    "\n",
    "First, I needed to clone the repository to my computer. I did this in BASH command line, but I'm including that step for posterity (this may not work as expected within Jupyter)."
   ]
  },
  {
   "cell_type": "code",
   "execution_count": 7,
   "metadata": {
    "collapsed": true
   },
   "outputs": [],
   "source": [
    "#!git clone http://github.com/colditzjb/YelpEpi/"
   ]
  },
  {
   "cell_type": "markdown",
   "metadata": {},
   "source": [
    "Depending on your current working directory (e.g., where you started Jupyter), this repo may end up in a different location on your own computer. Change this next line to point to the correct directory:"
   ]
  },
  {
   "cell_type": "code",
   "execution_count": 8,
   "metadata": {
    "collapsed": true
   },
   "outputs": [],
   "source": [
    "dir_in = '//home/jason/repos/YelpEpi/'"
   ]
  },
  {
   "cell_type": "markdown",
   "metadata": {},
   "source": [
    "Okay, now that we're (hopefully) on the same page, let's navigate to the data subdirectory and see what we're working with..."
   ]
  },
  {
   "cell_type": "code",
   "execution_count": 9,
   "metadata": {},
   "outputs": [
    {
     "data": {
      "text/plain": [
       "['2016-09-02.csv',\n",
       " '2016-09-30.csv',\n",
       " '2016-10-31.csv',\n",
       " '2016-11-30.csv',\n",
       " '2017-01-03.csv',\n",
       " '2017-01-31.csv',\n",
       " '2017-02-28.csv',\n",
       " '2017-04-03.csv',\n",
       " '2017-05-01.csv',\n",
       " '2017-05-30.csv',\n",
       " '2017-06-30.csv',\n",
       " 'README.md',\n",
       " 'output.csv']"
      ]
     },
     "execution_count": 9,
     "metadata": {},
     "output_type": "execute_result"
    }
   ],
   "source": [
    "import os\n",
    "data_dir = dir_in+'data/'\n",
    "files = sorted(os.listdir(data_dir)) # Use sorted() to list them in ascending order\n",
    "files"
   ]
  },
  {
   "cell_type": "markdown",
   "metadata": {},
   "source": [
    "A couple issues:\n",
    "* There is a README.md file among the CSV data files, so we'll need to ignore that.\n",
    "* The data collection dates are in the file names, and we'll need those for later.\n",
    "\n",
    "Let's clean that up a bit:"
   ]
  },
  {
   "cell_type": "code",
   "execution_count": 10,
   "metadata": {},
   "outputs": [
    {
     "name": "stdout",
     "output_type": "stream",
     "text": [
      "extension is:\t.csv\n",
      "filename is:\t2017-05-01\n"
     ]
    }
   ],
   "source": [
    "# Figuring out the slicing options\n",
    "f = '2017-05-01.csv'\n",
    "print('extension is:\\t'+f[-4:]) # Use this later to select only CSV files\n",
    "print('filename is:\\t'+f[:-4]) # Use this later for parsing out dates from file names"
   ]
  },
  {
   "cell_type": "code",
   "execution_count": 11,
   "metadata": {},
   "outputs": [
    {
     "data": {
      "text/plain": [
       "['2016-09-02.csv',\n",
       " '2016-09-30.csv',\n",
       " '2016-10-31.csv',\n",
       " '2016-11-30.csv',\n",
       " '2017-01-03.csv',\n",
       " '2017-01-31.csv',\n",
       " '2017-02-28.csv',\n",
       " '2017-04-03.csv',\n",
       " '2017-05-01.csv',\n",
       " '2017-05-30.csv',\n",
       " '2017-06-30.csv',\n",
       " 'output.csv']"
      ]
     },
     "execution_count": 11,
     "metadata": {},
     "output_type": "execute_result"
    }
   ],
   "source": [
    "# Making lists of only CSV files\n",
    "files_csv = []\n",
    "for f in files:\n",
    "    if '.csv' in f[-4:]:\n",
    "        files_csv.append(f)\n",
    "files = files_csv \n",
    "files"
   ]
  },
  {
   "cell_type": "markdown",
   "metadata": {},
   "source": [
    "Now we'll read in the first CSV file as a Pandas object and examine it."
   ]
  },
  {
   "cell_type": "code",
   "execution_count": 12,
   "metadata": {},
   "outputs": [
    {
     "data": {
      "text/html": [
       "<div>\n",
       "<table border=\"1\" class=\"dataframe\">\n",
       "  <thead>\n",
       "    <tr style=\"text-align: right;\">\n",
       "      <th></th>\n",
       "      <th>termnum</th>\n",
       "      <th>term</th>\n",
       "      <th>category</th>\n",
       "      <th>radius_miles</th>\n",
       "      <th>loci</th>\n",
       "      <th>location</th>\n",
       "      <th>lat</th>\n",
       "      <th>lng</th>\n",
       "      <th>distance</th>\n",
       "      <th>i</th>\n",
       "      <th>...</th>\n",
       "      <th>is_closed</th>\n",
       "      <th>rating</th>\n",
       "      <th>review_count</th>\n",
       "      <th>name</th>\n",
       "      <th>phone</th>\n",
       "      <th>display_address</th>\n",
       "      <th>url</th>\n",
       "      <th>yelpcats</th>\n",
       "      <th>isWTS</th>\n",
       "      <th>isTobShop</th>\n",
       "    </tr>\n",
       "  </thead>\n",
       "  <tbody>\n",
       "    <tr>\n",
       "      <th>0</th>\n",
       "      <td>0</td>\n",
       "      <td>vape</td>\n",
       "      <td>NaN</td>\n",
       "      <td>25</td>\n",
       "      <td>1</td>\n",
       "      <td>Allentown-Bethlehem-Easton | PA-NJ Metro Area ...</td>\n",
       "      <td>40.549806</td>\n",
       "      <td>-75.491105</td>\n",
       "      <td>NaN</td>\n",
       "      <td>1</td>\n",
       "      <td>...</td>\n",
       "      <td>False</td>\n",
       "      <td>4.0</td>\n",
       "      <td>4</td>\n",
       "      <td>Get Your Vape On</td>\n",
       "      <td>6104218310</td>\n",
       "      <td>610 State Ave | Emmaus PA 18049</td>\n",
       "      <td>http://www.yelp.com/biz/get-your-vape-on-emmau...</td>\n",
       "      <td>vapeshops |</td>\n",
       "      <td>NaN</td>\n",
       "      <td>NaN</td>\n",
       "    </tr>\n",
       "    <tr>\n",
       "      <th>1</th>\n",
       "      <td>0</td>\n",
       "      <td>vape</td>\n",
       "      <td>NaN</td>\n",
       "      <td>25</td>\n",
       "      <td>1</td>\n",
       "      <td>Allentown-Bethlehem-Easton | PA-NJ Metro Area ...</td>\n",
       "      <td>40.549495</td>\n",
       "      <td>-75.597692</td>\n",
       "      <td>NaN</td>\n",
       "      <td>2</td>\n",
       "      <td>...</td>\n",
       "      <td>False</td>\n",
       "      <td>4.5</td>\n",
       "      <td>2</td>\n",
       "      <td>Vape Flow</td>\n",
       "      <td>4846498347</td>\n",
       "      <td>7150 Hamilton Blvd | Trexlertown PA 18087</td>\n",
       "      <td>http://www.yelp.com/biz/vape-flow-trexlertown-...</td>\n",
       "      <td>vapeshops |</td>\n",
       "      <td>NaN</td>\n",
       "      <td>NaN</td>\n",
       "    </tr>\n",
       "    <tr>\n",
       "      <th>2</th>\n",
       "      <td>0</td>\n",
       "      <td>vape</td>\n",
       "      <td>NaN</td>\n",
       "      <td>25</td>\n",
       "      <td>1</td>\n",
       "      <td>Allentown-Bethlehem-Easton | PA-NJ Metro Area ...</td>\n",
       "      <td>40.629023</td>\n",
       "      <td>-75.477516</td>\n",
       "      <td>NaN</td>\n",
       "      <td>3</td>\n",
       "      <td>...</td>\n",
       "      <td>False</td>\n",
       "      <td>1.0</td>\n",
       "      <td>1</td>\n",
       "      <td>Blue Monkey Vape</td>\n",
       "      <td>6102310555</td>\n",
       "      <td>250 Lehigh Valley Mall | Whitehall PA 18052</td>\n",
       "      <td>http://www.yelp.com/biz/blue-monkey-vape-white...</td>\n",
       "      <td>vapeshops |</td>\n",
       "      <td>NaN</td>\n",
       "      <td>NaN</td>\n",
       "    </tr>\n",
       "  </tbody>\n",
       "</table>\n",
       "<p>3 rows × 21 columns</p>\n",
       "</div>"
      ],
      "text/plain": [
       "   termnum  term  category  radius_miles  loci  \\\n",
       "0        0  vape       NaN            25     1   \n",
       "1        0  vape       NaN            25     1   \n",
       "2        0  vape       NaN            25     1   \n",
       "\n",
       "                                            location        lat        lng  \\\n",
       "0  Allentown-Bethlehem-Easton | PA-NJ Metro Area ...  40.549806 -75.491105   \n",
       "1  Allentown-Bethlehem-Easton | PA-NJ Metro Area ...  40.549495 -75.597692   \n",
       "2  Allentown-Bethlehem-Easton | PA-NJ Metro Area ...  40.629023 -75.477516   \n",
       "\n",
       "   distance  i    ...     is_closed rating  review_count              name  \\\n",
       "0       NaN  1    ...         False    4.0             4  Get Your Vape On   \n",
       "1       NaN  2    ...         False    4.5             2         Vape Flow   \n",
       "2       NaN  3    ...         False    1.0             1  Blue Monkey Vape   \n",
       "\n",
       "        phone                              display_address  \\\n",
       "0  6104218310              610 State Ave | Emmaus PA 18049   \n",
       "1  4846498347    7150 Hamilton Blvd | Trexlertown PA 18087   \n",
       "2  6102310555  250 Lehigh Valley Mall | Whitehall PA 18052   \n",
       "\n",
       "                                                 url      yelpcats isWTS  \\\n",
       "0  http://www.yelp.com/biz/get-your-vape-on-emmau...  vapeshops |    NaN   \n",
       "1  http://www.yelp.com/biz/vape-flow-trexlertown-...  vapeshops |    NaN   \n",
       "2  http://www.yelp.com/biz/blue-monkey-vape-white...  vapeshops |    NaN   \n",
       "\n",
       "   isTobShop  \n",
       "0        NaN  \n",
       "1        NaN  \n",
       "2        NaN  \n",
       "\n",
       "[3 rows x 21 columns]"
      ]
     },
     "execution_count": 12,
     "metadata": {},
     "output_type": "execute_result"
    }
   ],
   "source": [
    "import pandas as pd\n",
    "df = pd.read_csv(data_dir+files[0])\n",
    "df.head(3) # Only display the first 3 records"
   ]
  },
  {
   "cell_type": "markdown",
   "metadata": {},
   "source": [
    "Next, let's confirm that all of the files are Pandas-readable...\n",
    "\n",
    "_Spoiler alert:_ they're not all good!"
   ]
  },
  {
   "cell_type": "code",
   "execution_count": 13,
   "metadata": {},
   "outputs": [
    {
     "name": "stdout",
     "output_type": "stream",
     "text": [
      "2016-09-02.csv is all good\n",
      "2016-09-30.csv is all good\n",
      "2016-10-31.csv is all good\n",
      "2016-11-30.csv is all good\n",
      "2017-01-03.csv is NOT good\n",
      "2017-01-31.csv is NOT good\n",
      "2017-02-28.csv is NOT good\n",
      "2017-04-03.csv is NOT good\n",
      "2017-05-01.csv is all good\n",
      "2017-05-30.csv is all good\n",
      "2017-06-30.csv is all good\n",
      "output.csv is all good\n"
     ]
    }
   ],
   "source": [
    "for f in files:\n",
    "    try:\n",
    "        df = pd.read_csv(data_dir+f)\n",
    "        print(f+' is all good')\n",
    "    except:\n",
    "        print(f+' is NOT good')"
   ]
  },
  {
   "cell_type": "markdown",
   "metadata": {},
   "source": [
    "What's going on with the \"NOT good\" files?!\n",
    "\n",
    "Let's iterate to find the error..."
   ]
  },
  {
   "cell_type": "code",
   "execution_count": 14,
   "metadata": {},
   "outputs": [
    {
     "ename": "UnicodeDecodeError",
     "evalue": "'utf-8' codec can't decode byte 0xe9 in position 2336: invalid continuation byte",
     "output_type": "error",
     "traceback": [
      "\u001b[0;31m---------------------------------------------------------------------------\u001b[0m",
      "\u001b[0;31mUnicodeDecodeError\u001b[0m                        Traceback (most recent call last)",
      "\u001b[0;32m<ipython-input-14-79e1beb40896>\u001b[0m in \u001b[0;36m<module>\u001b[0;34m()\u001b[0m\n\u001b[0;32m----> 1\u001b[0;31m \u001b[0;32mfor\u001b[0m \u001b[0mline\u001b[0m \u001b[0;32min\u001b[0m \u001b[0mopen\u001b[0m\u001b[0;34m(\u001b[0m\u001b[0mdata_dir\u001b[0m\u001b[0;34m+\u001b[0m\u001b[0;34m'2017-01-03.csv'\u001b[0m\u001b[0;34m)\u001b[0m\u001b[0;34m:\u001b[0m\u001b[0;34m\u001b[0m\u001b[0m\n\u001b[0m\u001b[1;32m      2\u001b[0m     \u001b[0;32mpass\u001b[0m\u001b[0;34m\u001b[0m\u001b[0m\n",
      "\u001b[0;32m/usr/lib/python3.5/codecs.py\u001b[0m in \u001b[0;36mdecode\u001b[0;34m(self, input, final)\u001b[0m\n\u001b[1;32m    319\u001b[0m         \u001b[0;31m# decode input (taking the buffer into account)\u001b[0m\u001b[0;34m\u001b[0m\u001b[0;34m\u001b[0m\u001b[0m\n\u001b[1;32m    320\u001b[0m         \u001b[0mdata\u001b[0m \u001b[0;34m=\u001b[0m \u001b[0mself\u001b[0m\u001b[0;34m.\u001b[0m\u001b[0mbuffer\u001b[0m \u001b[0;34m+\u001b[0m \u001b[0minput\u001b[0m\u001b[0;34m\u001b[0m\u001b[0m\n\u001b[0;32m--> 321\u001b[0;31m         \u001b[0;34m(\u001b[0m\u001b[0mresult\u001b[0m\u001b[0;34m,\u001b[0m \u001b[0mconsumed\u001b[0m\u001b[0;34m)\u001b[0m \u001b[0;34m=\u001b[0m \u001b[0mself\u001b[0m\u001b[0;34m.\u001b[0m\u001b[0m_buffer_decode\u001b[0m\u001b[0;34m(\u001b[0m\u001b[0mdata\u001b[0m\u001b[0;34m,\u001b[0m \u001b[0mself\u001b[0m\u001b[0;34m.\u001b[0m\u001b[0merrors\u001b[0m\u001b[0;34m,\u001b[0m \u001b[0mfinal\u001b[0m\u001b[0;34m)\u001b[0m\u001b[0;34m\u001b[0m\u001b[0m\n\u001b[0m\u001b[1;32m    322\u001b[0m         \u001b[0;31m# keep undecoded input until the next call\u001b[0m\u001b[0;34m\u001b[0m\u001b[0;34m\u001b[0m\u001b[0m\n\u001b[1;32m    323\u001b[0m         \u001b[0mself\u001b[0m\u001b[0;34m.\u001b[0m\u001b[0mbuffer\u001b[0m \u001b[0;34m=\u001b[0m \u001b[0mdata\u001b[0m\u001b[0;34m[\u001b[0m\u001b[0mconsumed\u001b[0m\u001b[0;34m:\u001b[0m\u001b[0;34m]\u001b[0m\u001b[0;34m\u001b[0m\u001b[0m\n",
      "\u001b[0;31mUnicodeDecodeError\u001b[0m: 'utf-8' codec can't decode byte 0xe9 in position 2336: invalid continuation byte"
     ]
    }
   ],
   "source": [
    "for line in open(data_dir+'2017-01-03.csv'):\n",
    "    pass"
   ]
  },
  {
   "cell_type": "markdown",
   "metadata": {},
   "source": [
    "Let's examine the file in question..."
   ]
  },
  {
   "cell_type": "code",
   "execution_count": 16,
   "metadata": {},
   "outputs": [
    {
     "name": "stdout",
     "output_type": "stream",
     "text": [
      "Last good line was #944 and had this data:\n",
      "\n",
      "0,vape,,25,36,York-Hanover | PA Metro Area; Pennsylvania (Spring Grove | PA),39.9766769,-76.7686615,5516.60113329,18,djs-westgate-beverage-york,False,4.0,1,DJ's Westgate Beverage,7177641550,1550 Kenneth Rd | York PA 17408,https://www.yelp.com/biz/djs-westgate-beverage-york?adjust_creative=wDwCvDADIHyvJYDHOmNK2g&utm_campaign=yelp_api&utm_medium=api_v2_search&utm_source=wDwCvDADIHyvJYDHOmNK2g,beer_and_wine | tobaccoshops | \n",
      "\n"
     ]
    }
   ],
   "source": [
    "lineNum = 0\n",
    "try:\n",
    "    for line in open(data_dir+'2017-01-03.csv'):\n",
    "        lineNum += 1\n",
    "        pass\n",
    "except:\n",
    "    print('Last good line was #'+str(lineNum)+' and had this data:\\n')\n",
    "    print(line)\n"
   ]
  },
  {
   "cell_type": "markdown",
   "metadata": {},
   "source": [
    "At this point, we know that there is a utf-8 encoding error around line # 944 in the '2017-01-03.csv' file (and also in some subsequent files). Upon reviewing the raw data, there weren't any obviously strange text characters, so we're going to try a different encoding strategy.\n",
    "\n",
    "After some trial-and-error (and various StackOverflow pages), _\"latin-1\"_ might be a viable encoding strategy when interpreting text from an API that is international in scope. Let's try that..."
   ]
  },
  {
   "cell_type": "code",
   "execution_count": 17,
   "metadata": {},
   "outputs": [
    {
     "name": "stdout",
     "output_type": "stream",
     "text": [
      "2016-09-02.csv is all good\n",
      "2016-09-30.csv is all good\n",
      "2016-10-31.csv is all good\n",
      "2016-11-30.csv is all good\n",
      "2017-01-03.csv is all good\n",
      "2017-01-31.csv is all good\n",
      "2017-02-28.csv is all good\n",
      "2017-04-03.csv is all good\n",
      "2017-05-01.csv is all good\n",
      "2017-05-30.csv is all good\n",
      "2017-06-30.csv is all good\n",
      "output.csv is all good\n"
     ]
    }
   ],
   "source": [
    "for f in files:\n",
    "    try:\n",
    "        df = pd.read_csv(data_dir+f, encoding='latin-1')\n",
    "        print(f+' is all good')\n",
    "    except:\n",
    "        print(f+' is NOT good')"
   ]
  },
  {
   "cell_type": "markdown",
   "metadata": {},
   "source": [
    "__Success - it's all good!__"
   ]
  },
  {
   "cell_type": "code",
   "execution_count": null,
   "metadata": {
    "collapsed": true
   },
   "outputs": [],
   "source": []
  },
  {
   "cell_type": "markdown",
   "metadata": {},
   "source": [
    "### Documenting the data\n",
    "\n",
    "Now that the data files are programatically \"all good\", let's double check the `head()` and `info()` functions for a couple dataframes with different circumstances:\n",
    "\n",
    "* 2016-09-02.csv was \"all good\" before re-encoding\n",
    "* 2017-01-03.csv was \"NOT good\" before re-encoding\n",
    "\n",
    "If everything looks congruent, we will then document (as per the assignment goals).\n"
   ]
  },
  {
   "cell_type": "code",
   "execution_count": 18,
   "metadata": {},
   "outputs": [
    {
     "name": "stdout",
     "output_type": "stream",
     "text": [
      "<class 'pandas.core.frame.DataFrame'>\n",
      "Int64Index: 929 entries, 0 to 928\n",
      "Data columns (total 21 columns):\n",
      "termnum            929 non-null int64\n",
      "term               929 non-null object\n",
      "category           0 non-null float64\n",
      "radius_miles       929 non-null int64\n",
      "loci               929 non-null int64\n",
      "location           929 non-null object\n",
      "lat                929 non-null float64\n",
      "lng                929 non-null float64\n",
      "distance           0 non-null float64\n",
      "i                  929 non-null int64\n",
      "yelp_id            929 non-null object\n",
      "is_closed          929 non-null bool\n",
      "rating             929 non-null float64\n",
      "review_count       929 non-null int64\n",
      "name               929 non-null object\n",
      "phone              926 non-null float64\n",
      "display_address    929 non-null object\n",
      "url                929 non-null object\n",
      "yelpcats           929 non-null object\n",
      "isWTS              0 non-null float64\n",
      "isTobShop          0 non-null float64\n",
      "dtypes: bool(1), float64(8), int64(5), object(7)\n",
      "memory usage: 127.9+ KB\n"
     ]
    },
    {
     "data": {
      "text/html": [
       "<div>\n",
       "<table border=\"1\" class=\"dataframe\">\n",
       "  <thead>\n",
       "    <tr style=\"text-align: right;\">\n",
       "      <th></th>\n",
       "      <th>termnum</th>\n",
       "      <th>term</th>\n",
       "      <th>category</th>\n",
       "      <th>radius_miles</th>\n",
       "      <th>loci</th>\n",
       "      <th>location</th>\n",
       "      <th>lat</th>\n",
       "      <th>lng</th>\n",
       "      <th>distance</th>\n",
       "      <th>i</th>\n",
       "      <th>...</th>\n",
       "      <th>is_closed</th>\n",
       "      <th>rating</th>\n",
       "      <th>review_count</th>\n",
       "      <th>name</th>\n",
       "      <th>phone</th>\n",
       "      <th>display_address</th>\n",
       "      <th>url</th>\n",
       "      <th>yelpcats</th>\n",
       "      <th>isWTS</th>\n",
       "      <th>isTobShop</th>\n",
       "    </tr>\n",
       "  </thead>\n",
       "  <tbody>\n",
       "    <tr>\n",
       "      <th>0</th>\n",
       "      <td>0</td>\n",
       "      <td>vape</td>\n",
       "      <td>NaN</td>\n",
       "      <td>25</td>\n",
       "      <td>1</td>\n",
       "      <td>Allentown-Bethlehem-Easton | PA-NJ Metro Area ...</td>\n",
       "      <td>40.549806</td>\n",
       "      <td>-75.491105</td>\n",
       "      <td>NaN</td>\n",
       "      <td>1</td>\n",
       "      <td>...</td>\n",
       "      <td>False</td>\n",
       "      <td>4.0</td>\n",
       "      <td>4</td>\n",
       "      <td>Get Your Vape On</td>\n",
       "      <td>6104218310</td>\n",
       "      <td>610 State Ave | Emmaus PA 18049</td>\n",
       "      <td>http://www.yelp.com/biz/get-your-vape-on-emmau...</td>\n",
       "      <td>vapeshops |</td>\n",
       "      <td>NaN</td>\n",
       "      <td>NaN</td>\n",
       "    </tr>\n",
       "    <tr>\n",
       "      <th>1</th>\n",
       "      <td>0</td>\n",
       "      <td>vape</td>\n",
       "      <td>NaN</td>\n",
       "      <td>25</td>\n",
       "      <td>1</td>\n",
       "      <td>Allentown-Bethlehem-Easton | PA-NJ Metro Area ...</td>\n",
       "      <td>40.549495</td>\n",
       "      <td>-75.597692</td>\n",
       "      <td>NaN</td>\n",
       "      <td>2</td>\n",
       "      <td>...</td>\n",
       "      <td>False</td>\n",
       "      <td>4.5</td>\n",
       "      <td>2</td>\n",
       "      <td>Vape Flow</td>\n",
       "      <td>4846498347</td>\n",
       "      <td>7150 Hamilton Blvd | Trexlertown PA 18087</td>\n",
       "      <td>http://www.yelp.com/biz/vape-flow-trexlertown-...</td>\n",
       "      <td>vapeshops |</td>\n",
       "      <td>NaN</td>\n",
       "      <td>NaN</td>\n",
       "    </tr>\n",
       "    <tr>\n",
       "      <th>2</th>\n",
       "      <td>0</td>\n",
       "      <td>vape</td>\n",
       "      <td>NaN</td>\n",
       "      <td>25</td>\n",
       "      <td>1</td>\n",
       "      <td>Allentown-Bethlehem-Easton | PA-NJ Metro Area ...</td>\n",
       "      <td>40.629023</td>\n",
       "      <td>-75.477516</td>\n",
       "      <td>NaN</td>\n",
       "      <td>3</td>\n",
       "      <td>...</td>\n",
       "      <td>False</td>\n",
       "      <td>1.0</td>\n",
       "      <td>1</td>\n",
       "      <td>Blue Monkey Vape</td>\n",
       "      <td>6102310555</td>\n",
       "      <td>250 Lehigh Valley Mall | Whitehall PA 18052</td>\n",
       "      <td>http://www.yelp.com/biz/blue-monkey-vape-white...</td>\n",
       "      <td>vapeshops |</td>\n",
       "      <td>NaN</td>\n",
       "      <td>NaN</td>\n",
       "    </tr>\n",
       "  </tbody>\n",
       "</table>\n",
       "<p>3 rows × 21 columns</p>\n",
       "</div>"
      ],
      "text/plain": [
       "   termnum  term  category  radius_miles  loci  \\\n",
       "0        0  vape       NaN            25     1   \n",
       "1        0  vape       NaN            25     1   \n",
       "2        0  vape       NaN            25     1   \n",
       "\n",
       "                                            location        lat        lng  \\\n",
       "0  Allentown-Bethlehem-Easton | PA-NJ Metro Area ...  40.549806 -75.491105   \n",
       "1  Allentown-Bethlehem-Easton | PA-NJ Metro Area ...  40.549495 -75.597692   \n",
       "2  Allentown-Bethlehem-Easton | PA-NJ Metro Area ...  40.629023 -75.477516   \n",
       "\n",
       "   distance  i    ...     is_closed rating  review_count              name  \\\n",
       "0       NaN  1    ...         False    4.0             4  Get Your Vape On   \n",
       "1       NaN  2    ...         False    4.5             2         Vape Flow   \n",
       "2       NaN  3    ...         False    1.0             1  Blue Monkey Vape   \n",
       "\n",
       "        phone                              display_address  \\\n",
       "0  6104218310              610 State Ave | Emmaus PA 18049   \n",
       "1  4846498347    7150 Hamilton Blvd | Trexlertown PA 18087   \n",
       "2  6102310555  250 Lehigh Valley Mall | Whitehall PA 18052   \n",
       "\n",
       "                                                 url      yelpcats isWTS  \\\n",
       "0  http://www.yelp.com/biz/get-your-vape-on-emmau...  vapeshops |    NaN   \n",
       "1  http://www.yelp.com/biz/vape-flow-trexlertown-...  vapeshops |    NaN   \n",
       "2  http://www.yelp.com/biz/blue-monkey-vape-white...  vapeshops |    NaN   \n",
       "\n",
       "   isTobShop  \n",
       "0        NaN  \n",
       "1        NaN  \n",
       "2        NaN  \n",
       "\n",
       "[3 rows x 21 columns]"
      ]
     },
     "execution_count": 18,
     "metadata": {},
     "output_type": "execute_result"
    }
   ],
   "source": [
    "import pandas as pd\n",
    "df = pd.read_csv(data_dir+'2016-09-02.csv', encoding='latin-1')\n",
    "df.info()\n",
    "df.head(3) # Only display the first 3 records"
   ]
  },
  {
   "cell_type": "code",
   "execution_count": 19,
   "metadata": {},
   "outputs": [
    {
     "name": "stdout",
     "output_type": "stream",
     "text": [
      "<class 'pandas.core.frame.DataFrame'>\n",
      "Int64Index: 1649 entries, 0 to 1648\n",
      "Data columns (total 22 columns):\n",
      "termnum            1649 non-null int64\n",
      "term               1649 non-null object\n",
      "category           0 non-null float64\n",
      "radius_miles       1649 non-null int64\n",
      "loci               1649 non-null int64\n",
      "location           1649 non-null object\n",
      "lat                1649 non-null float64\n",
      "lng                1646 non-null float64\n",
      "distance           1646 non-null float64\n",
      "i                  1649 non-null int64\n",
      "yelp_id            1649 non-null object\n",
      "is_closed          1649 non-null bool\n",
      "rating             1649 non-null float64\n",
      "review_count       1649 non-null int64\n",
      "name               1649 non-null object\n",
      "phone              1632 non-null float64\n",
      "display_address    1649 non-null object\n",
      "url                1649 non-null object\n",
      "yelpcats           1649 non-null object\n",
      "isWTS              0 non-null float64\n",
      "isTobShop          0 non-null float64\n",
      "Unnamed: 21        0 non-null float64\n",
      "dtypes: bool(1), float64(9), int64(5), object(7)\n",
      "memory usage: 239.9+ KB\n"
     ]
    },
    {
     "data": {
      "text/html": [
       "<div>\n",
       "<table border=\"1\" class=\"dataframe\">\n",
       "  <thead>\n",
       "    <tr style=\"text-align: right;\">\n",
       "      <th></th>\n",
       "      <th>termnum</th>\n",
       "      <th>term</th>\n",
       "      <th>category</th>\n",
       "      <th>radius_miles</th>\n",
       "      <th>loci</th>\n",
       "      <th>location</th>\n",
       "      <th>lat</th>\n",
       "      <th>lng</th>\n",
       "      <th>distance</th>\n",
       "      <th>i</th>\n",
       "      <th>...</th>\n",
       "      <th>rating</th>\n",
       "      <th>review_count</th>\n",
       "      <th>name</th>\n",
       "      <th>phone</th>\n",
       "      <th>display_address</th>\n",
       "      <th>url</th>\n",
       "      <th>yelpcats</th>\n",
       "      <th>isWTS</th>\n",
       "      <th>isTobShop</th>\n",
       "      <th>Unnamed: 21</th>\n",
       "    </tr>\n",
       "  </thead>\n",
       "  <tbody>\n",
       "    <tr>\n",
       "      <th>0</th>\n",
       "      <td>0</td>\n",
       "      <td>vape</td>\n",
       "      <td>NaN</td>\n",
       "      <td>25</td>\n",
       "      <td>1</td>\n",
       "      <td>Allentown-Bethlehem-Easton | PA-NJ Metro Area ...</td>\n",
       "      <td>40.549110</td>\n",
       "      <td>-75.491142</td>\n",
       "      <td>5456.363136</td>\n",
       "      <td>1</td>\n",
       "      <td>...</td>\n",
       "      <td>4</td>\n",
       "      <td>4</td>\n",
       "      <td>Get Your Vape On</td>\n",
       "      <td>6104218310</td>\n",
       "      <td>610 State Ave | Emmaus PA 18049</td>\n",
       "      <td>https://www.yelp.com/biz/get-your-vape-on-emma...</td>\n",
       "      <td>vapeshops |</td>\n",
       "      <td>NaN</td>\n",
       "      <td>NaN</td>\n",
       "      <td>NaN</td>\n",
       "    </tr>\n",
       "    <tr>\n",
       "      <th>1</th>\n",
       "      <td>0</td>\n",
       "      <td>vape</td>\n",
       "      <td>NaN</td>\n",
       "      <td>25</td>\n",
       "      <td>1</td>\n",
       "      <td>Allentown-Bethlehem-Easton | PA-NJ Metro Area ...</td>\n",
       "      <td>40.549495</td>\n",
       "      <td>-75.597692</td>\n",
       "      <td>5461.880656</td>\n",
       "      <td>2</td>\n",
       "      <td>...</td>\n",
       "      <td>1</td>\n",
       "      <td>1</td>\n",
       "      <td>Vape Flow</td>\n",
       "      <td>4846810033</td>\n",
       "      <td>7150 Hamilton Blvd | Trexlertown PA 18087</td>\n",
       "      <td>https://www.yelp.com/biz/vape-flow-trexlertown...</td>\n",
       "      <td>vapeshops |</td>\n",
       "      <td>NaN</td>\n",
       "      <td>NaN</td>\n",
       "      <td>NaN</td>\n",
       "    </tr>\n",
       "    <tr>\n",
       "      <th>2</th>\n",
       "      <td>0</td>\n",
       "      <td>vape</td>\n",
       "      <td>NaN</td>\n",
       "      <td>25</td>\n",
       "      <td>1</td>\n",
       "      <td>Allentown-Bethlehem-Easton | PA-NJ Metro Area ...</td>\n",
       "      <td>40.628833</td>\n",
       "      <td>-75.477412</td>\n",
       "      <td>5456.567591</td>\n",
       "      <td>3</td>\n",
       "      <td>...</td>\n",
       "      <td>1</td>\n",
       "      <td>1</td>\n",
       "      <td>Blue Monkey Vape</td>\n",
       "      <td>6102310555</td>\n",
       "      <td>250 Lehigh Valley Mall | Whitehall PA 18052</td>\n",
       "      <td>https://www.yelp.com/biz/blue-monkey-vape-whit...</td>\n",
       "      <td>vapeshops |</td>\n",
       "      <td>NaN</td>\n",
       "      <td>NaN</td>\n",
       "      <td>NaN</td>\n",
       "    </tr>\n",
       "  </tbody>\n",
       "</table>\n",
       "<p>3 rows × 22 columns</p>\n",
       "</div>"
      ],
      "text/plain": [
       "   termnum  term  category  radius_miles  loci  \\\n",
       "0        0  vape       NaN            25     1   \n",
       "1        0  vape       NaN            25     1   \n",
       "2        0  vape       NaN            25     1   \n",
       "\n",
       "                                            location        lat        lng  \\\n",
       "0  Allentown-Bethlehem-Easton | PA-NJ Metro Area ...  40.549110 -75.491142   \n",
       "1  Allentown-Bethlehem-Easton | PA-NJ Metro Area ...  40.549495 -75.597692   \n",
       "2  Allentown-Bethlehem-Easton | PA-NJ Metro Area ...  40.628833 -75.477412   \n",
       "\n",
       "      distance  i     ...      rating review_count              name  \\\n",
       "0  5456.363136  1     ...           4            4  Get Your Vape On   \n",
       "1  5461.880656  2     ...           1            1         Vape Flow   \n",
       "2  5456.567591  3     ...           1            1  Blue Monkey Vape   \n",
       "\n",
       "        phone                              display_address  \\\n",
       "0  6104218310              610 State Ave | Emmaus PA 18049   \n",
       "1  4846810033    7150 Hamilton Blvd | Trexlertown PA 18087   \n",
       "2  6102310555  250 Lehigh Valley Mall | Whitehall PA 18052   \n",
       "\n",
       "                                                 url      yelpcats isWTS  \\\n",
       "0  https://www.yelp.com/biz/get-your-vape-on-emma...  vapeshops |    NaN   \n",
       "1  https://www.yelp.com/biz/vape-flow-trexlertown...  vapeshops |    NaN   \n",
       "2  https://www.yelp.com/biz/blue-monkey-vape-whit...  vapeshops |    NaN   \n",
       "\n",
       "  isTobShop  Unnamed: 21  \n",
       "0       NaN          NaN  \n",
       "1       NaN          NaN  \n",
       "2       NaN          NaN  \n",
       "\n",
       "[3 rows x 22 columns]"
      ]
     },
     "execution_count": 19,
     "metadata": {},
     "output_type": "execute_result"
    }
   ],
   "source": [
    "import pandas as pd\n",
    "df = pd.read_csv(data_dir+'2017-01-03.csv', encoding='latin-1')\n",
    "df.info()\n",
    "df.head(3) # Only display the first 3 records"
   ]
  },
  {
   "cell_type": "markdown",
   "metadata": {},
   "source": [
    "One obvious difference between these two files is the presence of an additional, blank \"_Unnamed: 21_\" column in the second file. That can be ignored, as well as some of the other columns that don't yield useful information. Here's the breakdown of the data dictionary:\n",
    "\n",
    "00 __termnum:__            [ignore] iterable relating to the search term used in data collection\n",
    "\n",
    "01 __term:__              the search term used in data collection\n",
    "\n",
    "02 __category:__           [ignore] empty column\n",
    "\n",
    "03 __radius_miles:__       [ignore] search radius was 25 miles for all data\n",
    "\n",
    "04 __loci:__               [ignore] iterable relating to the location searched about\n",
    "\n",
    "05 __location:__           census tract information for this search\n",
    "\n",
    "06 __lat: __               latitude of business location\n",
    "\n",
    "07 __lng:__                longitude of business location\n",
    "\n",
    "08 __distance:__           [ignore] distance from an arbitrary point to the location\n",
    "\n",
    "09 __i:__                  [ignore] iterable relating to the search result listing\n",
    "\n",
    "10 __yelp_id:__            unique Yelp identifier string for this business listing\n",
    "\n",
    "11 __is_closed:__          is this business marked as closed on Yelp? (True/False)\n",
    "\n",
    "12 __rating:__             average rating of this business on Yelp (range: 1-5)\n",
    "\n",
    "13 __review_count:__       number of reviews contributing to the average rating\n",
    "\n",
    "14 __name:__               business name\n",
    "\n",
    "15 __phone:__              business phone number\n",
    "\n",
    "16 __display_address:__    business address\n",
    "\n",
    "17 __url:__                webpage for this Yelp listing\n",
    "\n",
    "18 __yelpcats:__           business categories on the Yelp platform \n",
    "\n",
    "19 __isWTS:__              empty column intended to track \"Vape Shops\" from `yelpcats`\n",
    "\n",
    "20 __isTobShop:__          empty column intended to track \"Tobacco Shops\" from `yelpcats`\n",
    "\n",
    "21 __Unnamed: 21:__        [ignore] erroneous column\n",
    "\n",
    "\n",
    "_Also of note:_ During data collection commas were replaced with \"|\" bars in string variables so that the resulting CSV files would line up correctly. This may be useful information for splitting string fields later on! "
   ]
  },
  {
   "cell_type": "markdown",
   "metadata": {},
   "source": [
    "### Cleaning the data\n",
    "\n",
    "A few overarching issues for data cleaning:\n",
    "* Data files are _roughly_ monthly data collection points, but sometimes data were collected at the beginning and end of a particular month. A `timepoint` field might be better than a date field in this circumstance. \n",
    "* Some data files have an extra, blank column.\n",
    "* Some columns aren't useful for the present analyses and can be dropped.\n",
    "* Redundancy; lots of redundant data!\n",
    "\n",
    "More nuanced issues for data cleaning:\n",
    "* Need to extract state abbreviation from the `display_address` field to center-in on Pennsylvania data.\n",
    "* Need to populate the `isWTS` field to identify businesses marked as _Vape Shops_ by Yelp.\n",
    "\n",
    "Let's do this...\n"
   ]
  },
  {
   "cell_type": "markdown",
   "metadata": {},
   "source": [
    "#### Parsing state names from address fields:\n",
    "* Address fields have multiple parts, separated with \"|\" bar characters. Addressess might have two, three, or more parts. We will first split the field based on address part (the last part always contains the state abbreviation). \n",
    "* Within that particular address part, there may or may not be a zipcode in the last position. We will control for that by looking for a two-character string (i.e., state abbreviation) in the last position. Otherwise, we will use the typical, second-to-last position.\n",
    "\n",
    "This process will later be integrated into the parsing script as the `getState()` function."
   ]
  },
  {
   "cell_type": "code",
   "execution_count": 20,
   "metadata": {},
   "outputs": [
    {
     "name": "stdout",
     "output_type": "stream",
     "text": [
      "add_split1:\t ['610 State Ave ', ' Foo Bar Building ', ' Foo Baz PA 18049']\n",
      "add_split2:\t ['', 'Foo', 'Baz', 'PA', '18049']\n",
      "state:\t\t PA\n",
      "\n",
      "state:\t\t PA\n"
     ]
    }
   ],
   "source": [
    "# First let's figure out how to parse state names from an example display_address\n",
    "add = '610 State Ave | Foo Bar Building | Foo Baz PA 18049'\n",
    "add_split1 = add.split('|')\n",
    "print('add_split1:\\t',add_split1)\n",
    "add_split2 = add_split1[-1].split(' ') # Use last list position since some addresses have multiple parts\n",
    "print('add_split2:\\t',add_split2)\n",
    "state = add_split2[-2] # Use second-to last list position because the last position should be zip code\n",
    "print('state:\\t\\t',state)\n",
    "\n",
    "# Bring it all together into a single line of code:\n",
    "state = add.split('|')[-1].split(' ')[-2]\n",
    "print('\\nstate:\\t\\t',state)\n"
   ]
  },
  {
   "cell_type": "code",
   "execution_count": 21,
   "metadata": {},
   "outputs": [
    {
     "name": "stdout",
     "output_type": "stream",
     "text": [
      "add_split1:\t ['610 State Ave ', ' Foo Bar Building ', ' Foo Baz PA']\n",
      "add_split2:\t ['', 'Foo', 'Baz', 'PA']\n",
      "state:\t\t PA \n",
      "\n",
      "add_split1:\t ['610 State Ave ', ' Foo Bar Building ', ' Foo Baz PA 15555']\n",
      "add_split2:\t ['', 'Foo', 'Baz', 'PA', '15555']\n",
      "state:\t\t PA \n",
      "\n"
     ]
    }
   ],
   "source": [
    "# But sometimes there is no zip code!\n",
    "\n",
    "adds = ['610 State Ave | Foo Bar Building | Foo Baz PA','610 State Ave | Foo Bar Building | Foo Baz PA 15555']\n",
    "for add in adds:\n",
    "    add_split1 = add.split('|')\n",
    "    print('add_split1:\\t',add_split1)\n",
    "    add_split2 = add_split1[-1].split(' ')\n",
    "    print('add_split2:\\t',add_split2)\n",
    "    if len(add_split2[-1]) == 2: # If two characters are at the end, use the last position\n",
    "        state = add_split2[-1]    \n",
    "    else:\n",
    "        state = add_split2[-2] # Otherwise, use default second-to-last position\n",
    "    print('state:\\t\\t',state,'\\n')\n"
   ]
  },
  {
   "cell_type": "markdown",
   "metadata": {},
   "source": [
    "#### Parsing business type from Yelp categories\n",
    "* The \"vapeshops\" and \"tobaccoshops\" categories are of interest to this study. Those can be parsed from the `yelpcats` field.\n",
    "* We want to know if a business is categorized as either, both, or neither. \n",
    "\n",
    "This process is more straightforward (trial-and-error was months ago - not documented in depth here) and will be integrated into the parsing script as the `businessType()` function."
   ]
  },
  {
   "cell_type": "code",
   "execution_count": 22,
   "metadata": {},
   "outputs": [
    {
     "name": "stdout",
     "output_type": "stream",
     "text": [
      "Been there, done that, but the businessType() function is new!\n"
     ]
    }
   ],
   "source": [
    "print('Been there, done that, but the businessType() function is new!')"
   ]
  },
  {
   "cell_type": "markdown",
   "metadata": {},
   "source": [
    "#### Reducing data to useful fields\n",
    "\n",
    "There's a lot going on here, but here's the breakdown:\n",
    "\n",
    "* Define the `getState()` and `businessType()` functions. \n",
    "\n",
    "\n",
    "* Using the data dictionary and column numbers (from above), define the `writeLine()` function to output the useful data for each input row that is read.\n",
    " * As per the data dictionary, some of the less-useful columns are ignored.\n",
    "\n",
    "\n",
    "* Iterate over all of the input files to create a singular output file with a reduced number of columns. \n",
    " * Increment a `timepoint` variable when reading each file (sorted ascending), to define an interval varible for tracking data over time.\n",
    " * Header row:\n",
    "   * Include a header row that uses existing header titles from the first input file (ignoring subsequent files' headers).\n",
    "   * Include static header titles for new columns created for the `timepoint` variable and the `getState()` and `businessType()` functions.\n",
    " * Data:\n",
    "   * For rows that are not headers, write existing data from each row.\n",
    "   * Include new values returned from the `timepoint` variable and the `getState()` and `businessType()` functions.\n"
   ]
  },
  {
   "cell_type": "code",
   "execution_count": 23,
   "metadata": {},
   "outputs": [
    {
     "name": "stdout",
     "output_type": "stream",
     "text": [
      "Complete!\n"
     ]
    }
   ],
   "source": [
    "import os, csv\n",
    "\n",
    "files = sorted(os.listdir(data_dir)) # Use sorted() to list files in ascending order\n",
    "\n",
    "# Parse state abbreviation from address\n",
    "def getState(address):\n",
    "    if len(address.split('|')[-1].split(' ')[-1]) == 2: # Is the last position a 2-character string?\n",
    "        state = address.split('|')[-1].split(' ')[-1] # If so, use that\n",
    "    else:\n",
    "        state = address.split('|')[-1].split(' ')[-2] # Otherwise, use the second-to-last position\n",
    "    return state\n",
    "\n",
    "# Parse business type from Yelp categories \n",
    "def businessType(tag):\n",
    "    if 'vapeshops' in tag and 'tobaccoshops' in tag:\n",
    "        b_type = 'vape+tobacco shop'\n",
    "    elif 'vapeshops' in tag:\n",
    "        b_type = 'vape shop'\n",
    "    elif 'tobaccoshops' in tag:\n",
    "        b_type = 'tobacco shop'\n",
    "    else:\n",
    "        b_type = 'other business'\n",
    "    return b_type\n",
    "    \n",
    "\n",
    "# Reduce the output file to only the columns that we're interested in\n",
    "def writeLine(timepoint, l, state, b_type, mode):\n",
    "    v = l.split(',')    \n",
    "    with open(data_dir+'output.csv', mode) as output: # 'mode' to select 'w+' (clean file w/ header) or 'a' (append data)\n",
    "        CSVwriter = csv.writer(output, delimiter=',')\n",
    "        CSVwriter.writerow([timepoint, v[1], v[5], v[6], v[7], v[10], \n",
    "                            v[11], v[12], v[13], v[14], v[15], v[16], \n",
    "                            v[17], v[18], state, b_type])\n",
    "\n",
    "# Bring it all together and parse files...\n",
    "\n",
    "timepoint = 0 # Set the initial timepoint to zero\n",
    "\n",
    "# Iterate through data files and output data using the above writeLine function\n",
    "for f in files:\n",
    "    if '.csv' in f[-4:] and 'output' not in f: # Include only CSV files and not the output CSV file itself\n",
    "        line = 0 # Need to iterate lines to control for header rows in data files\n",
    "        with open(data_dir+f, encoding='latin-1') as file:\n",
    "            for l in file: # The 'l' variable is a comma-delimited string of data\n",
    "                if timepoint == 0 and line == 0:\n",
    "                    writeLine('timepoint', l, 'state', 'b_type', mode = 'w+') # Write initial header row to new/blank output file\n",
    "                elif line > 0: # Ignore subsequent files' header rows (header: line == 0)\n",
    "                    b_type = businessType(l.split(',')[18]) # Business type data in comma-delimited position #18\n",
    "                    state = getState(l.split(',')[16]) # Address data in comma-delimited position #16\n",
    "                    writeLine(timepoint, l, state, b_type, mode = 'a') # Append the data row to the output file\n",
    "                else:\n",
    "                    pass\n",
    "                line = line + 1 # Iterate lines within each data file\n",
    "            timepoint = timepoint + 1 # Iterate timepoint for each data file that is read\n",
    "\n",
    "print('Complete!')"
   ]
  },
  {
   "cell_type": "markdown",
   "metadata": {},
   "source": [
    "### Combining the data\n",
    "\n",
    "* Start with the cleaned output file from the previous step"
   ]
  },
  {
   "cell_type": "code",
   "execution_count": 24,
   "metadata": {},
   "outputs": [
    {
     "name": "stdout",
     "output_type": "stream",
     "text": [
      "<class 'pandas.core.frame.DataFrame'>\n",
      "Int64Index: 14898 entries, 0 to 14897\n",
      "Data columns (total 16 columns):\n",
      "timepoint          14898 non-null int64\n",
      "term               14898 non-null object\n",
      "location           14898 non-null object\n",
      "lat                14898 non-null float64\n",
      "lng                14892 non-null float64\n",
      "yelp_id            14898 non-null object\n",
      "is_closed          14898 non-null bool\n",
      "rating             14898 non-null float64\n",
      "review_count       14898 non-null int64\n",
      "name               14898 non-null object\n",
      "phone              14788 non-null float64\n",
      "display_address    14898 non-null object\n",
      "url                14898 non-null object\n",
      "yelpcats           14898 non-null object\n",
      "state              14898 non-null object\n",
      "b_type             14898 non-null object\n",
      "dtypes: bool(1), float64(4), int64(2), object(9)\n",
      "memory usage: 1.3+ MB\n"
     ]
    },
    {
     "data": {
      "text/html": [
       "<div>\n",
       "<table border=\"1\" class=\"dataframe\">\n",
       "  <thead>\n",
       "    <tr style=\"text-align: right;\">\n",
       "      <th></th>\n",
       "      <th>timepoint</th>\n",
       "      <th>term</th>\n",
       "      <th>location</th>\n",
       "      <th>lat</th>\n",
       "      <th>lng</th>\n",
       "      <th>yelp_id</th>\n",
       "      <th>is_closed</th>\n",
       "      <th>rating</th>\n",
       "      <th>review_count</th>\n",
       "      <th>name</th>\n",
       "      <th>phone</th>\n",
       "      <th>display_address</th>\n",
       "      <th>url</th>\n",
       "      <th>yelpcats</th>\n",
       "      <th>state</th>\n",
       "      <th>b_type</th>\n",
       "    </tr>\n",
       "  </thead>\n",
       "  <tbody>\n",
       "    <tr>\n",
       "      <th>0</th>\n",
       "      <td>0</td>\n",
       "      <td>vape</td>\n",
       "      <td>Allentown-Bethlehem-Easton | PA-NJ Metro Area ...</td>\n",
       "      <td>40.549806</td>\n",
       "      <td>-75.491105</td>\n",
       "      <td>get-your-vape-on-emmaus</td>\n",
       "      <td>False</td>\n",
       "      <td>4.0</td>\n",
       "      <td>4</td>\n",
       "      <td>Get Your Vape On</td>\n",
       "      <td>6104218310</td>\n",
       "      <td>610 State Ave | Emmaus PA 18049</td>\n",
       "      <td>http://www.yelp.com/biz/get-your-vape-on-emmau...</td>\n",
       "      <td>vapeshops |</td>\n",
       "      <td>PA</td>\n",
       "      <td>vape shop</td>\n",
       "    </tr>\n",
       "    <tr>\n",
       "      <th>1</th>\n",
       "      <td>0</td>\n",
       "      <td>vape</td>\n",
       "      <td>Allentown-Bethlehem-Easton | PA-NJ Metro Area ...</td>\n",
       "      <td>40.549495</td>\n",
       "      <td>-75.597692</td>\n",
       "      <td>vape-flow-trexlertown-2</td>\n",
       "      <td>False</td>\n",
       "      <td>4.5</td>\n",
       "      <td>2</td>\n",
       "      <td>Vape Flow</td>\n",
       "      <td>4846498347</td>\n",
       "      <td>7150 Hamilton Blvd | Trexlertown PA 18087</td>\n",
       "      <td>http://www.yelp.com/biz/vape-flow-trexlertown-...</td>\n",
       "      <td>vapeshops |</td>\n",
       "      <td>PA</td>\n",
       "      <td>vape shop</td>\n",
       "    </tr>\n",
       "    <tr>\n",
       "      <th>2</th>\n",
       "      <td>0</td>\n",
       "      <td>vape</td>\n",
       "      <td>Allentown-Bethlehem-Easton | PA-NJ Metro Area ...</td>\n",
       "      <td>40.629023</td>\n",
       "      <td>-75.477516</td>\n",
       "      <td>blue-monkey-vape-whitehall</td>\n",
       "      <td>False</td>\n",
       "      <td>1.0</td>\n",
       "      <td>1</td>\n",
       "      <td>Blue Monkey Vape</td>\n",
       "      <td>6102310555</td>\n",
       "      <td>250 Lehigh Valley Mall | Whitehall PA 18052</td>\n",
       "      <td>http://www.yelp.com/biz/blue-monkey-vape-white...</td>\n",
       "      <td>vapeshops |</td>\n",
       "      <td>PA</td>\n",
       "      <td>vape shop</td>\n",
       "    </tr>\n",
       "  </tbody>\n",
       "</table>\n",
       "</div>"
      ],
      "text/plain": [
       "   timepoint  term                                           location  \\\n",
       "0          0  vape  Allentown-Bethlehem-Easton | PA-NJ Metro Area ...   \n",
       "1          0  vape  Allentown-Bethlehem-Easton | PA-NJ Metro Area ...   \n",
       "2          0  vape  Allentown-Bethlehem-Easton | PA-NJ Metro Area ...   \n",
       "\n",
       "         lat        lng                     yelp_id is_closed  rating  \\\n",
       "0  40.549806 -75.491105     get-your-vape-on-emmaus     False     4.0   \n",
       "1  40.549495 -75.597692     vape-flow-trexlertown-2     False     4.5   \n",
       "2  40.629023 -75.477516  blue-monkey-vape-whitehall     False     1.0   \n",
       "\n",
       "   review_count              name       phone  \\\n",
       "0             4  Get Your Vape On  6104218310   \n",
       "1             2         Vape Flow  4846498347   \n",
       "2             1  Blue Monkey Vape  6102310555   \n",
       "\n",
       "                               display_address  \\\n",
       "0              610 State Ave | Emmaus PA 18049   \n",
       "1    7150 Hamilton Blvd | Trexlertown PA 18087   \n",
       "2  250 Lehigh Valley Mall | Whitehall PA 18052   \n",
       "\n",
       "                                                 url      yelpcats state  \\\n",
       "0  http://www.yelp.com/biz/get-your-vape-on-emmau...  vapeshops |     PA   \n",
       "1  http://www.yelp.com/biz/vape-flow-trexlertown-...  vapeshops |     PA   \n",
       "2  http://www.yelp.com/biz/blue-monkey-vape-white...  vapeshops |     PA   \n",
       "\n",
       "      b_type  \n",
       "0  vape shop  \n",
       "1  vape shop  \n",
       "2  vape shop  "
      ]
     },
     "execution_count": 24,
     "metadata": {},
     "output_type": "execute_result"
    }
   ],
   "source": [
    "# Explore the data file\n",
    "df = pd.read_csv(data_dir+'output.csv', encoding='latin-1')\n",
    "df.info()\n",
    "df.head(3) # Only display the first 3 records"
   ]
  },
  {
   "cell_type": "code",
   "execution_count": 25,
   "metadata": {},
   "outputs": [
    {
     "name": "stdout",
     "output_type": "stream",
     "text": [
      "<class 'pandas.core.frame.DataFrame'>\n",
      "Int64Index: 6886 entries, 319 to 14897\n",
      "Data columns (total 16 columns):\n",
      "timepoint          6886 non-null int64\n",
      "term               6886 non-null object\n",
      "location           6886 non-null object\n",
      "lat                6886 non-null float64\n",
      "lng                6884 non-null float64\n",
      "yelp_id            6886 non-null object\n",
      "is_closed          6886 non-null bool\n",
      "rating             6886 non-null float64\n",
      "review_count       6886 non-null int64\n",
      "name               6886 non-null object\n",
      "phone              6802 non-null float64\n",
      "display_address    6886 non-null object\n",
      "url                6886 non-null object\n",
      "yelpcats           6886 non-null object\n",
      "state              6886 non-null object\n",
      "b_type             6886 non-null object\n",
      "dtypes: bool(1), float64(4), int64(2), object(9)\n",
      "memory usage: 625.4+ KB\n"
     ]
    },
    {
     "data": {
      "text/html": [
       "<div>\n",
       "<table border=\"1\" class=\"dataframe\">\n",
       "  <thead>\n",
       "    <tr style=\"text-align: right;\">\n",
       "      <th></th>\n",
       "      <th>timepoint</th>\n",
       "      <th>term</th>\n",
       "      <th>location</th>\n",
       "      <th>lat</th>\n",
       "      <th>lng</th>\n",
       "      <th>yelp_id</th>\n",
       "      <th>is_closed</th>\n",
       "      <th>rating</th>\n",
       "      <th>review_count</th>\n",
       "      <th>name</th>\n",
       "      <th>phone</th>\n",
       "      <th>display_address</th>\n",
       "      <th>url</th>\n",
       "      <th>yelpcats</th>\n",
       "      <th>state</th>\n",
       "      <th>b_type</th>\n",
       "    </tr>\n",
       "  </thead>\n",
       "  <tbody>\n",
       "    <tr>\n",
       "      <th>319</th>\n",
       "      <td>0</td>\n",
       "      <td>vapor</td>\n",
       "      <td>Erie | PA Metro Area; Pennsylvania</td>\n",
       "      <td>42.079616</td>\n",
       "      <td>-80.090667</td>\n",
       "      <td>erie-vapor-cabana-erie</td>\n",
       "      <td>False</td>\n",
       "      <td>3.5</td>\n",
       "      <td>3</td>\n",
       "      <td>Erie Vapor Cabana</td>\n",
       "      <td>8148732407</td>\n",
       "      <td>5067 Peach St | Erie PA 16509</td>\n",
       "      <td>http://www.yelp.com/biz/erie-vapor-cabana-erie...</td>\n",
       "      <td>lounges |</td>\n",
       "      <td>PA</td>\n",
       "      <td>other business</td>\n",
       "    </tr>\n",
       "    <tr>\n",
       "      <th>373</th>\n",
       "      <td>0</td>\n",
       "      <td>vapor</td>\n",
       "      <td>New York-Northern New Jersey-Long Island | NY-...</td>\n",
       "      <td>40.361059</td>\n",
       "      <td>-74.950135</td>\n",
       "      <td>a-little-taste-of-cuba-new-hope</td>\n",
       "      <td>False</td>\n",
       "      <td>3.5</td>\n",
       "      <td>7</td>\n",
       "      <td>A Little Taste of Cuba</td>\n",
       "      <td>2158621122</td>\n",
       "      <td>102 S Main St | Ste D | New Hope PA 18938</td>\n",
       "      <td>http://www.yelp.com/biz/a-little-taste-of-cuba...</td>\n",
       "      <td>tobaccoshops |</td>\n",
       "      <td>PA</td>\n",
       "      <td>tobacco shop</td>\n",
       "    </tr>\n",
       "    <tr>\n",
       "      <th>374</th>\n",
       "      <td>0</td>\n",
       "      <td>vapor</td>\n",
       "      <td>New York-Northern New Jersey-Long Island | NY-...</td>\n",
       "      <td>40.122219</td>\n",
       "      <td>-74.976890</td>\n",
       "      <td>one-stop-pawn-shop-feasterville-trevose</td>\n",
       "      <td>False</td>\n",
       "      <td>4.0</td>\n",
       "      <td>1</td>\n",
       "      <td>One Stop Pawn Shop</td>\n",
       "      <td>2156387888</td>\n",
       "      <td>2461 Lincoln Hwy | Feasterville Trevose PA 19053</td>\n",
       "      <td>http://www.yelp.com/biz/one-stop-pawn-shop-fea...</td>\n",
       "      <td>pawn | goldbuyers | paydayloans |</td>\n",
       "      <td>PA</td>\n",
       "      <td>other business</td>\n",
       "    </tr>\n",
       "  </tbody>\n",
       "</table>\n",
       "</div>"
      ],
      "text/plain": [
       "     timepoint   term                                           location  \\\n",
       "319          0  vapor                 Erie | PA Metro Area; Pennsylvania   \n",
       "373          0  vapor  New York-Northern New Jersey-Long Island | NY-...   \n",
       "374          0  vapor  New York-Northern New Jersey-Long Island | NY-...   \n",
       "\n",
       "           lat        lng                                  yelp_id is_closed  \\\n",
       "319  42.079616 -80.090667                   erie-vapor-cabana-erie     False   \n",
       "373  40.361059 -74.950135          a-little-taste-of-cuba-new-hope     False   \n",
       "374  40.122219 -74.976890  one-stop-pawn-shop-feasterville-trevose     False   \n",
       "\n",
       "     rating  review_count                    name       phone  \\\n",
       "319     3.5             3       Erie Vapor Cabana  8148732407   \n",
       "373     3.5             7  A Little Taste of Cuba  2158621122   \n",
       "374     4.0             1      One Stop Pawn Shop  2156387888   \n",
       "\n",
       "                                      display_address  \\\n",
       "319                     5067 Peach St | Erie PA 16509   \n",
       "373         102 S Main St | Ste D | New Hope PA 18938   \n",
       "374  2461 Lincoln Hwy | Feasterville Trevose PA 19053   \n",
       "\n",
       "                                                   url  \\\n",
       "319  http://www.yelp.com/biz/erie-vapor-cabana-erie...   \n",
       "373  http://www.yelp.com/biz/a-little-taste-of-cuba...   \n",
       "374  http://www.yelp.com/biz/one-stop-pawn-shop-fea...   \n",
       "\n",
       "                               yelpcats state          b_type  \n",
       "319                          lounges |     PA  other business  \n",
       "373                     tobaccoshops |     PA    tobacco shop  \n",
       "374  pawn | goldbuyers | paydayloans |     PA  other business  "
      ]
     },
     "execution_count": 25,
     "metadata": {},
     "output_type": "execute_result"
    }
   ],
   "source": [
    "# Create a new dataframe with unique business listings per timepoint\n",
    "unique_time = df.drop_duplicates(['yelp_id', 'timepoint'], keep='last')\n",
    "unique_time.info()\n",
    "unique_time.head(3) # Only display the first 3 records"
   ]
  },
  {
   "cell_type": "markdown",
   "metadata": {},
   "source": [
    "Now, I want to look at counts of business listing types per timepoint. This [StackOverflow](https://stackoverflow.com/questions/19384532/how-to-count-number-of-rows-in-a-group-in-pandas-group-by-object) post was helpful, as was [this one](https://stackoverflow.com/questions/36129683/nested-dataframe-in-pandas)...\n"
   ]
  },
  {
   "cell_type": "code",
   "execution_count": 26,
   "metadata": {},
   "outputs": [
    {
     "name": "stdout",
     "output_type": "stream",
     "text": [
      "                            yelp_id\n",
      "                              count\n",
      "timepoint b_type                   \n",
      "0         other business         49\n",
      "          tobacco shop           39\n",
      "          vape shop             190\n",
      "          vape+tobacco shop      39\n",
      "1         other business         36\n",
      "          tobacco shop           37\n",
      "          vape shop             197\n",
      "          vape+tobacco shop      41\n",
      "2         other business        415\n",
      "          tobacco shop          233\n",
      "          vape shop             205\n",
      "          vape+tobacco shop      41\n",
      "3         other business        409\n",
      "          tobacco shop          237\n",
      "          vape shop             206\n",
      "          vape+tobacco shop      40\n",
      "4         other business        415\n",
      "          tobacco shop          239\n",
      "          vape shop             212\n",
      "          vape+tobacco shop      41\n",
      "5         other business        420\n",
      "          tobacco shop          241\n",
      "          vape shop             213\n",
      "          vape+tobacco shop      40\n",
      "6         other business        350\n",
      "          tobacco shop          240\n",
      "          vape shop             219\n",
      "          vape+tobacco shop      41\n",
      "7         other business        341\n",
      "          tobacco shop          239\n",
      "          vape shop             221\n",
      "          vape+tobacco shop      43\n",
      "8         other business          8\n",
      "          tobacco shop           38\n",
      "          vape shop             225\n",
      "          vape+tobacco shop      43\n",
      "9         other business         10\n",
      "          tobacco shop           40\n",
      "          vape shop             225\n",
      "          vape+tobacco shop      43\n",
      "10        other business         10\n",
      "          tobacco shop           40\n",
      "          vape shop             233\n",
      "          vape+tobacco shop      42\n"
     ]
    },
    {
     "data": {
      "text/plain": [
       "<matplotlib.axes._subplots.AxesSubplot at 0xae5b866c>"
      ]
     },
     "execution_count": 26,
     "metadata": {},
     "output_type": "execute_result"
    },
    {
     "data": {
      "image/png": "[encoded data removed]",
      "text/plain": [
       "<matplotlib.figure.Figure at 0xae5ad08c>"
      ]
     },
     "metadata": {},
     "output_type": "display_data"
    }
   ],
   "source": [
    "\n",
    "b_byTimepoint = unique_time[['yelp_id', 'b_type', 'timepoint']].groupby(['timepoint','b_type']).agg(['count'])\n",
    "print(b_byTimepoint)\n",
    "\n",
    "xtab = pd.crosstab(unique_time.timepoint, unique_time.b_type)\n",
    "\n",
    "%matplotlib inline\n",
    "xtab.plot()\n"
   ]
  },
  {
   "cell_type": "markdown",
   "metadata": {},
   "source": [
    "There are a lot of false-positives of \"tobacco shop\" and \"other business\" listings. It also looks like Yelp may have changed their search algorithm over this time period, or something else happened because these false-positives are primarily in timepoints 2-7. Let's examine results by search term..."
   ]
  },
  {
   "cell_type": "code",
   "execution_count": 27,
   "metadata": {},
   "outputs": [
    {
     "data": {
      "text/plain": [
       "<matplotlib.axes._subplots.AxesSubplot at 0xae527f0c>"
      ]
     },
     "execution_count": 27,
     "metadata": {},
     "output_type": "execute_result"
    },
    {
     "data": {
      "image/png": "[encoded data removed]",
      "text/plain": [
       "<matplotlib.figure.Figure at 0xaee9c52c>"
      ]
     },
     "metadata": {},
     "output_type": "display_data"
    }
   ],
   "source": [
    "xtab = pd.crosstab(df.timepoint, df.term)\n",
    "\n",
    "%matplotlib inline\n",
    "xtab.plot()"
   ]
  },
  {
   "cell_type": "markdown",
   "metadata": {},
   "source": [
    "It appears that the search results for \"vape\" may be the culprit for inflating the number of false positives over this time period. Let's check on that further in timepoint 2, where it began..."
   ]
  },
  {
   "cell_type": "code",
   "execution_count": 28,
   "metadata": {},
   "outputs": [
    {
     "name": "stdout",
     "output_type": "stream",
     "text": [
      "b_type       other business  tobacco shop  vape shop  vape+tobacco shop\n",
      "term                                                                   \n",
      "e-cig                     3            16         53                  6\n",
      "e-cigarette               1             7         29                  9\n",
      "ecig                      2             2         24                  3\n",
      "vape                    413           255        230                 46\n",
      "vaping                   25            21        231                 46\n",
      "vapor                    19            16        133                 19\n"
     ]
    },
    {
     "data": {
      "text/plain": [
       "<matplotlib.axes._subplots.AxesSubplot at 0xae49f62c>"
      ]
     },
     "execution_count": 28,
     "metadata": {},
     "output_type": "execute_result"
    },
    {
     "data": {
      "image/png": "[encoded data removed]",
      "text/plain": [
       "<matplotlib.figure.Figure at 0xae4271ac>"
      ]
     },
     "metadata": {},
     "output_type": "display_data"
    }
   ],
   "source": [
    "# Create a mask for timepoint #2\n",
    "tp2_mask = df['timepoint'] == 2\n",
    "\n",
    "# New dataframe with the mask\n",
    "df2 = df[tp2_mask]\n",
    "\n",
    "# Cross-tabulate the new dataframe by search term and business type\n",
    "xtab2 = pd.crosstab(df2.term, df2.b_type)\n",
    "print(xtab2)\n",
    "xtab2.plot(kind='bar')"
   ]
  },
  {
   "cell_type": "markdown",
   "metadata": {},
   "source": [
    "Because the \"vape\" search term seems to be problematic, I want to examine the results by \"vape\" versus all other search terms."
   ]
  },
  {
   "cell_type": "code",
   "execution_count": 29,
   "metadata": {},
   "outputs": [
    {
     "name": "stdout",
     "output_type": "stream",
     "text": [
      "b_type    other business  tobacco shop  vape shop  vape+tobacco shop\n",
      "vapeterm                                                            \n",
      "False                 50            62        470                 83\n",
      "True                 413           255        230                 46\n"
     ]
    },
    {
     "data": {
      "text/plain": [
       "<matplotlib.legend.Legend at 0xaee9c16c>"
      ]
     },
     "execution_count": 29,
     "metadata": {},
     "output_type": "execute_result"
    },
    {
     "data": {
      "image/png": "[encoded data removed]",
      "text/plain": [
       "<matplotlib.figure.Figure at 0xaee343ec>"
      ]
     },
     "metadata": {},
     "output_type": "display_data"
    }
   ],
   "source": [
    "df['vapeterm'] = df['term']=='vape'\n",
    "\n",
    "tp2_mask = df['timepoint'] == 2\n",
    "\n",
    "df2 = df[tp2_mask]\n",
    "\n",
    "xtab2 = pd.crosstab(df2.vapeterm, df2.b_type)\n",
    "print(xtab2)\n",
    "ax = xtab2.plot(kind='bar')\n",
    "\n",
    "ax.legend('') # I hid the legend here because it obscured the bars. "
   ]
  },
  {
   "cell_type": "markdown",
   "metadata": {},
   "source": [
    "This data dive has been interesting, but falling down the rabbit hole is getting beyond the scope of this assignment (sorry). I'll dig back into this work later on. \n",
    "__Notes to self:__\n",
    "* The \"vape\" search drew many more false positives than true positives for identifying vape shops across some timepoints.\n",
    "* I might want to figure out how many true positives the \"vape\" search caught, that weren't caught by other search strategies. \n",
    "* In the larger scope of things, this may not matter, as the spike in false positives disappeared after timepoint \\#7."
   ]
  },
  {
   "cell_type": "markdown",
   "metadata": {},
   "source": [
    "### Wrapping up:\n",
    "__What I accomplished:__\n",
    "* Read data files for multiple timepoints and ignored ancillary non-data files\n",
    "* Overcame frustrating data encoding issues (`utf-8` to `latin-1`)\n",
    "* Sorted and iterated over data files to define a timepoint variable\n",
    "* Recoded messy address data to determine what state the business listing was in\n",
    "* Recoded \"business type\" data to identify vape shops, tobacco shops, and other businesses (false positives)\n",
    "* Examined false positives across various search terms, per business type, over time\n",
    "* Cross-tabulated and graphed some data trends to make sense of it all\n",
    "* Realized that I was digging down a rabbit hole\n",
    "* Stopped digging, and provided a summary of workable code (below)\n",
    "\n"
   ]
  },
  {
   "cell_type": "code",
   "execution_count": 30,
   "metadata": {
    "scrolled": true
   },
   "outputs": [
    {
     "name": "stdout",
     "output_type": "stream",
     "text": [
      "<class 'pandas.core.frame.DataFrame'>\n",
      "Int64Index: 251 entries, 0 to 14065\n",
      "Data columns (total 16 columns):\n",
      "timepoint          251 non-null int64\n",
      "term               251 non-null object\n",
      "location           251 non-null object\n",
      "lat                251 non-null float64\n",
      "lng                251 non-null float64\n",
      "yelp_id            251 non-null object\n",
      "is_closed          251 non-null bool\n",
      "rating             251 non-null float64\n",
      "review_count       251 non-null int64\n",
      "name               251 non-null object\n",
      "phone              250 non-null float64\n",
      "display_address    251 non-null object\n",
      "url                251 non-null object\n",
      "yelpcats           251 non-null object\n",
      "state              251 non-null object\n",
      "b_type             251 non-null object\n",
      "dtypes: bool(1), float64(4), int64(2), object(9)\n",
      "memory usage: 22.8+ KB\n"
     ]
    },
    {
     "data": {
      "text/html": [
       "<div>\n",
       "<table border=\"1\" class=\"dataframe\">\n",
       "  <thead>\n",
       "    <tr style=\"text-align: right;\">\n",
       "      <th></th>\n",
       "      <th>timepoint</th>\n",
       "      <th>term</th>\n",
       "      <th>location</th>\n",
       "      <th>lat</th>\n",
       "      <th>lng</th>\n",
       "      <th>yelp_id</th>\n",
       "      <th>is_closed</th>\n",
       "      <th>rating</th>\n",
       "      <th>review_count</th>\n",
       "      <th>name</th>\n",
       "      <th>phone</th>\n",
       "      <th>display_address</th>\n",
       "      <th>url</th>\n",
       "      <th>yelpcats</th>\n",
       "      <th>state</th>\n",
       "      <th>b_type</th>\n",
       "    </tr>\n",
       "  </thead>\n",
       "  <tbody>\n",
       "    <tr>\n",
       "      <th>0</th>\n",
       "      <td>0</td>\n",
       "      <td>vape</td>\n",
       "      <td>Allentown-Bethlehem-Easton | PA-NJ Metro Area ...</td>\n",
       "      <td>40.549806</td>\n",
       "      <td>-75.491105</td>\n",
       "      <td>get-your-vape-on-emmaus</td>\n",
       "      <td>False</td>\n",
       "      <td>4.0</td>\n",
       "      <td>4</td>\n",
       "      <td>Get Your Vape On</td>\n",
       "      <td>6104218310</td>\n",
       "      <td>610 State Ave | Emmaus PA 18049</td>\n",
       "      <td>http://www.yelp.com/biz/get-your-vape-on-emmau...</td>\n",
       "      <td>vapeshops |</td>\n",
       "      <td>PA</td>\n",
       "      <td>vape shop</td>\n",
       "    </tr>\n",
       "    <tr>\n",
       "      <th>1</th>\n",
       "      <td>0</td>\n",
       "      <td>vape</td>\n",
       "      <td>Allentown-Bethlehem-Easton | PA-NJ Metro Area ...</td>\n",
       "      <td>40.549495</td>\n",
       "      <td>-75.597692</td>\n",
       "      <td>vape-flow-trexlertown-2</td>\n",
       "      <td>False</td>\n",
       "      <td>4.5</td>\n",
       "      <td>2</td>\n",
       "      <td>Vape Flow</td>\n",
       "      <td>4846498347</td>\n",
       "      <td>7150 Hamilton Blvd | Trexlertown PA 18087</td>\n",
       "      <td>http://www.yelp.com/biz/vape-flow-trexlertown-...</td>\n",
       "      <td>vapeshops |</td>\n",
       "      <td>PA</td>\n",
       "      <td>vape shop</td>\n",
       "    </tr>\n",
       "    <tr>\n",
       "      <th>2</th>\n",
       "      <td>0</td>\n",
       "      <td>vape</td>\n",
       "      <td>Allentown-Bethlehem-Easton | PA-NJ Metro Area ...</td>\n",
       "      <td>40.629023</td>\n",
       "      <td>-75.477516</td>\n",
       "      <td>blue-monkey-vape-whitehall</td>\n",
       "      <td>False</td>\n",
       "      <td>1.0</td>\n",
       "      <td>1</td>\n",
       "      <td>Blue Monkey Vape</td>\n",
       "      <td>6102310555</td>\n",
       "      <td>250 Lehigh Valley Mall | Whitehall PA 18052</td>\n",
       "      <td>http://www.yelp.com/biz/blue-monkey-vape-white...</td>\n",
       "      <td>vapeshops |</td>\n",
       "      <td>PA</td>\n",
       "      <td>vape shop</td>\n",
       "    </tr>\n",
       "  </tbody>\n",
       "</table>\n",
       "</div>"
      ],
      "text/plain": [
       "   timepoint  term                                           location  \\\n",
       "0          0  vape  Allentown-Bethlehem-Easton | PA-NJ Metro Area ...   \n",
       "1          0  vape  Allentown-Bethlehem-Easton | PA-NJ Metro Area ...   \n",
       "2          0  vape  Allentown-Bethlehem-Easton | PA-NJ Metro Area ...   \n",
       "\n",
       "         lat        lng                     yelp_id is_closed  rating  \\\n",
       "0  40.549806 -75.491105     get-your-vape-on-emmaus     False     4.0   \n",
       "1  40.549495 -75.597692     vape-flow-trexlertown-2     False     4.5   \n",
       "2  40.629023 -75.477516  blue-monkey-vape-whitehall     False     1.0   \n",
       "\n",
       "   review_count              name       phone  \\\n",
       "0             4  Get Your Vape On  6104218310   \n",
       "1             2         Vape Flow  4846498347   \n",
       "2             1  Blue Monkey Vape  6102310555   \n",
       "\n",
       "                               display_address  \\\n",
       "0              610 State Ave | Emmaus PA 18049   \n",
       "1    7150 Hamilton Blvd | Trexlertown PA 18087   \n",
       "2  250 Lehigh Valley Mall | Whitehall PA 18052   \n",
       "\n",
       "                                                 url      yelpcats state  \\\n",
       "0  http://www.yelp.com/biz/get-your-vape-on-emmau...  vapeshops |     PA   \n",
       "1  http://www.yelp.com/biz/vape-flow-trexlertown-...  vapeshops |     PA   \n",
       "2  http://www.yelp.com/biz/blue-monkey-vape-white...  vapeshops |     PA   \n",
       "\n",
       "      b_type  \n",
       "0  vape shop  \n",
       "1  vape shop  \n",
       "2  vape shop  "
      ]
     },
     "execution_count": 30,
     "metadata": {},
     "output_type": "execute_result"
    }
   ],
   "source": [
    "import os, csv\n",
    "\n",
    "dir_in = '//home/jason/repos/YelpEpi/' # This is my local directory\n",
    "files = sorted(os.listdir(data_dir)) # Use sorted() to list files in ascending order\n",
    "\n",
    "# Function to parse state abbreviation from address\n",
    "def getState(address):\n",
    "    if len(address.split('|')[-1].split(' ')[-1]) == 2: # Is the last position a 2-character string?\n",
    "        state = address.split('|')[-1].split(' ')[-1] # If so, use that\n",
    "    else:\n",
    "        state = address.split('|')[-1].split(' ')[-2] # Otherwise, use the second-to-last position\n",
    "    return state\n",
    "\n",
    "# Function to parse business type from Yelp categories \n",
    "def businessType(tag):\n",
    "    if 'vapeshops' in tag:\n",
    "        b_type = 'vape shop' # get anything clasified as a vape shop\n",
    "    else:\n",
    "        b_type = 'other'\n",
    "    return b_type\n",
    "    \n",
    "# Function to write the output file with only the columns that we're interested in\n",
    "def writeLine(timepoint, l, state, b_type, mode):\n",
    "    v = l.split(',')    \n",
    "    with open(data_dir+'output.csv', mode) as output: # 'mode' to select 'w+' (clean file w/ header) or 'a' (append data)\n",
    "        CSVwriter = csv.writer(output, delimiter=',')\n",
    "        CSVwriter.writerow([timepoint, v[1], v[5], v[6], v[7], v[10], \n",
    "                            v[11], v[12], v[13], v[14], v[15], v[16], \n",
    "                            v[17], v[18], state, b_type])\n",
    "\n",
    "# No more functions - all processing from here on out...\n",
    "\n",
    "# Iterate through data files and output data to a consolidated file\n",
    "timepoint = 0 # Set the initial timepoint to zero\n",
    "for f in files:\n",
    "    if '.csv' in f[-4:] and 'output' not in f: # Only include CSV files (and not the output file)\n",
    "        line = 0 # Need to iterate lines to control for header rows in data files\n",
    "        with open(data_dir+f, encoding='latin-1') as file:\n",
    "            for l in file: # The 'l' variable is a comma-delimited string of data\n",
    "                if timepoint == 0 and line == 0:\n",
    "                    writeLine('timepoint', l, 'state', 'b_type', mode = 'w+') # Write initial header row to new/blank output file\n",
    "                elif line > 0:\n",
    "                    b_type = businessType(l.split(',')[18]) # Business type data in comma-delimited position #18\n",
    "                    state = getState(l.split(',')[16]) # Address data in comma-delimited position #16\n",
    "                    writeLine(timepoint, l, state, b_type, mode = 'a') # Append the data row to the output file\n",
    "                else:\n",
    "                    pass\n",
    "                line = line + 1 # Iterate lines within each data file\n",
    "            timepoint = timepoint + 1 # Iterate timepoint for each data file that is read\n",
    "\n",
    "# Read the combined data file as a dataframe and use the correct encoding\n",
    "df = pd.read_csv(data_dir+'output.csv', encoding='latin-1')\n",
    "\n",
    "# Create a new dataframe with unique business listings\n",
    "unique = df.drop_duplicates(['yelp_id'], keep='first')\n",
    "\n",
    "# Create a mask for listings in PA\n",
    "pa_mask = unique['state'] == 'PA'\n",
    "\n",
    "# Create a mask for 'vape shop' business type\n",
    "vape_mask = unique['b_type'] == 'vape shop'\n",
    "\n",
    "# Filter a dataframe using the masks\n",
    "cleaned = unique[pa_mask & vape_mask]\n",
    "\n",
    "# These are the final results!\n",
    "cleaned.info()\n",
    "cleaned.head(3) # Only display the first 3 records\n",
    "\n"
   ]
  },
  {
   "cell_type": "markdown",
   "metadata": {},
   "source": [
    "Let's graph PA vape shops over the data collection timepoints..."
   ]
  },
  {
   "cell_type": "code",
   "execution_count": 31,
   "metadata": {},
   "outputs": [
    {
     "data": {
      "text/plain": [
       "<matplotlib.text.Text at 0xae2e314c>"
      ]
     },
     "execution_count": 31,
     "metadata": {},
     "output_type": "execute_result"
    },
    {
     "data": {
      "image/png": "[encoded data removed]",
      "text/plain": [
       "<matplotlib.figure.Figure at 0xae5071ac>"
      ]
     },
     "metadata": {},
     "output_type": "display_data"
    }
   ],
   "source": [
    "%matplotlib inline\n",
    "\n",
    "xtab = pd.crosstab(cleaned.timepoint, cleaned.b_type)\n",
    "#print(xtab)\n",
    "\n",
    "#create an array of cumulative counts over timepoints\n",
    "cum_sum = 0\n",
    "cumulative = []\n",
    "for freq in xtab['vape shop']:\n",
    "    cum_sum = cum_sum + freq\n",
    "    cumulative.append(cum_sum)\n",
    "\n",
    "#print(cumulative)\n",
    "ax = pd.Series(cumulative).plot(kind='line')\n",
    "ax.set_xlabel('Months since baseline data collection (09/2016)')\n",
    "ax.set_ylabel('Yelp\\'s \"Vape Shops\" identified across PA')\n",
    "#ax.set_title('Vape shops in PA over time')\n"
   ]
  },
  {
   "cell_type": "markdown",
   "metadata": {},
   "source": [
    "_Note to self:_ Update the remote repository..."
   ]
  },
  {
   "cell_type": "code",
   "execution_count": 32,
   "metadata": {
    "collapsed": true
   },
   "outputs": [],
   "source": [
    "#!git add .\n",
    "#!git commit -m \"update files\"\n",
    "#!git config user.email \"colditzjb@gmail.com\"\n",
    "#!git push origin master"
   ]
  }
 ],
 "metadata": {
  "kernelspec": {
   "display_name": "Python 3",
   "language": "python",
   "name": "python3"
  },
  "language_info": {
   "codemirror_mode": {
    "name": "ipython",
    "version": 3
   },
   "file_extension": ".py",
   "mimetype": "text/x-python",
   "name": "python",
   "nbconvert_exporter": "python",
   "pygments_lexer": "ipython3",
   "version": "3.5.2"
  }
 },
 "nbformat": 4,
 "nbformat_minor": 2
}
